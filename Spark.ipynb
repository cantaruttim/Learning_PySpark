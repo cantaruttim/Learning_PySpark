{
  "nbformat": 4,
  "nbformat_minor": 0,
  "metadata": {
    "colab": {
      "provenance": [],
      "authorship_tag": "ABX9TyO2pzmBQ+lQut0rg3eey3RU",
      "include_colab_link": true
    },
    "kernelspec": {
      "name": "python3",
      "display_name": "Python 3"
    },
    "language_info": {
      "name": "python"
    }
  },
  "cells": [
    {
      "cell_type": "markdown",
      "metadata": {
        "id": "view-in-github",
        "colab_type": "text"
      },
      "source": [
        "<a href=\"https://colab.research.google.com/github/cantaruttim/Learning_PySpark/blob/main/Spark.ipynb\" target=\"_parent\"><img src=\"https://colab.research.google.com/assets/colab-badge.svg\" alt=\"Open In Colab\"/></a>"
      ]
    },
    {
      "cell_type": "code",
      "execution_count": 5,
      "metadata": {
        "id": "RU9AVaYDmd28",
        "colab": {
          "base_uri": "https://localhost:8080/"
        },
        "outputId": "6a38284d-95d6-4ef5-f08b-112331fb7f52"
      },
      "outputs": [
        {
          "output_type": "stream",
          "name": "stdout",
          "text": [
            "Collecting pyspark\n",
            "  Downloading pyspark-3.4.1.tar.gz (310.8 MB)\n",
            "\u001b[2K     \u001b[90m━━━━━━━━━━━━━━━━━━━━━━━━━━━━━━━━━━━━━━━\u001b[0m \u001b[32m310.8/310.8 MB\u001b[0m \u001b[31m3.9 MB/s\u001b[0m eta \u001b[36m0:00:00\u001b[0m\n",
            "\u001b[?25h  Preparing metadata (setup.py) ... \u001b[?25l\u001b[?25hdone\n",
            "Requirement already satisfied: py4j==0.10.9.7 in /usr/local/lib/python3.10/dist-packages (from pyspark) (0.10.9.7)\n",
            "Building wheels for collected packages: pyspark\n",
            "  Building wheel for pyspark (setup.py) ... \u001b[?25l\u001b[?25hdone\n",
            "  Created wheel for pyspark: filename=pyspark-3.4.1-py2.py3-none-any.whl size=311285397 sha256=de4728a2ca9842132eb01cd64f38228b1c4db449f6579e620fe1324d6cab6220\n",
            "  Stored in directory: /root/.cache/pip/wheels/0d/77/a3/ff2f74cc9ab41f8f594dabf0579c2a7c6de920d584206e0834\n",
            "Successfully built pyspark\n",
            "Installing collected packages: pyspark\n",
            "Successfully installed pyspark-3.4.1\n"
          ]
        }
      ],
      "source": [
        "!pip install pyspark"
      ]
    },
    {
      "cell_type": "code",
      "source": [
        "import pyspark\n",
        "import pandas as pd\n",
        "import numpy as np"
      ],
      "metadata": {
        "id": "4UwyvzYpmqD1"
      },
      "execution_count": 7,
      "outputs": []
    },
    {
      "cell_type": "code",
      "source": [
        "df = pd.read_csv(\"/content/rlEstabComplementar202306.csv\", sep=';', encoding='latin1')\n",
        "df"
      ],
      "metadata": {
        "colab": {
          "base_uri": "https://localhost:8080/",
          "height": 487
        },
        "id": "XnZ2osW3qWuR",
        "outputId": "0790cb83-7a52-40cd-bace-e24b46caea0d"
      },
      "execution_count": 12,
      "outputs": [
        {
          "output_type": "execute_result",
          "data": {
            "text/plain": [
              "          CO_UNIDADE  CO_LEITO  CO_TIPO_LEITO  TP_ALTACOMP  QT_EXIST  \\\n",
              "0      2610000000000        36              2          NaN         1   \n",
              "1      3200000000000        92              3          NaN        20   \n",
              "2      2910000000000         7              7          NaN        16   \n",
              "3      5000000000000        13              1          NaN         4   \n",
              "4      2410000000000        45              5          NaN         2   \n",
              "...              ...       ...            ...          ...       ...   \n",
              "58650  2910000000000         6              1          NaN        10   \n",
              "58651  5110000000000        47              6          NaN         1   \n",
              "58652  5200000000000        47              6          NaN       108   \n",
              "58653  3300000000000        47              6          NaN        44   \n",
              "58654  3310000000000        34              6          NaN        40   \n",
              "\n",
              "       QT_CONTR  QT_SUS TO_CHAR(DT_ATUALIZACAO,'DD/MM/YYYY')    CO_USUARIO  \\\n",
              "0           NaN       0                           07/06/2023         MAELI   \n",
              "1           NaN      15                           03/05/2023         PENHA   \n",
              "2           NaN      16                           06/07/2023        MESTRE   \n",
              "3           NaN       0                           10/06/2022      HENRIQUE   \n",
              "4           NaN       2                           26/06/2023         SMSRS   \n",
              "...         ...     ...                                  ...           ...   \n",
              "58650       NaN      10                           09/06/2023         SETIC   \n",
              "58651       NaN       1                           19/06/2023         SCNES   \n",
              "58652       NaN     108                           21/06/2023        MESTRE   \n",
              "58653       NaN       0                           19/06/2023  ANDREANDRADE   \n",
              "58654       NaN       0                           21/06/2023          CNES   \n",
              "\n",
              "      TO_CHAR(DT_ATUALIZACAO_ORIGEM,'DD/MM/YYYY')  \n",
              "0                                      25/08/2021  \n",
              "1                                      25/08/2021  \n",
              "2                                      01/06/2022  \n",
              "3                                      07/04/2022  \n",
              "4                                      25/08/2021  \n",
              "...                                           ...  \n",
              "58650                                  23/06/2023  \n",
              "58651                                  23/06/2023  \n",
              "58652                                  23/06/2023  \n",
              "58653                                  23/06/2023  \n",
              "58654                                  23/06/2023  \n",
              "\n",
              "[58655 rows x 10 columns]"
            ],
            "text/html": [
              "\n",
              "\n",
              "  <div id=\"df-14fa4114-cee2-4d13-8052-7fa64c112668\">\n",
              "    <div class=\"colab-df-container\">\n",
              "      <div>\n",
              "<style scoped>\n",
              "    .dataframe tbody tr th:only-of-type {\n",
              "        vertical-align: middle;\n",
              "    }\n",
              "\n",
              "    .dataframe tbody tr th {\n",
              "        vertical-align: top;\n",
              "    }\n",
              "\n",
              "    .dataframe thead th {\n",
              "        text-align: right;\n",
              "    }\n",
              "</style>\n",
              "<table border=\"1\" class=\"dataframe\">\n",
              "  <thead>\n",
              "    <tr style=\"text-align: right;\">\n",
              "      <th></th>\n",
              "      <th>CO_UNIDADE</th>\n",
              "      <th>CO_LEITO</th>\n",
              "      <th>CO_TIPO_LEITO</th>\n",
              "      <th>TP_ALTACOMP</th>\n",
              "      <th>QT_EXIST</th>\n",
              "      <th>QT_CONTR</th>\n",
              "      <th>QT_SUS</th>\n",
              "      <th>TO_CHAR(DT_ATUALIZACAO,'DD/MM/YYYY')</th>\n",
              "      <th>CO_USUARIO</th>\n",
              "      <th>TO_CHAR(DT_ATUALIZACAO_ORIGEM,'DD/MM/YYYY')</th>\n",
              "    </tr>\n",
              "  </thead>\n",
              "  <tbody>\n",
              "    <tr>\n",
              "      <th>0</th>\n",
              "      <td>2610000000000</td>\n",
              "      <td>36</td>\n",
              "      <td>2</td>\n",
              "      <td>NaN</td>\n",
              "      <td>1</td>\n",
              "      <td>NaN</td>\n",
              "      <td>0</td>\n",
              "      <td>07/06/2023</td>\n",
              "      <td>MAELI</td>\n",
              "      <td>25/08/2021</td>\n",
              "    </tr>\n",
              "    <tr>\n",
              "      <th>1</th>\n",
              "      <td>3200000000000</td>\n",
              "      <td>92</td>\n",
              "      <td>3</td>\n",
              "      <td>NaN</td>\n",
              "      <td>20</td>\n",
              "      <td>NaN</td>\n",
              "      <td>15</td>\n",
              "      <td>03/05/2023</td>\n",
              "      <td>PENHA</td>\n",
              "      <td>25/08/2021</td>\n",
              "    </tr>\n",
              "    <tr>\n",
              "      <th>2</th>\n",
              "      <td>2910000000000</td>\n",
              "      <td>7</td>\n",
              "      <td>7</td>\n",
              "      <td>NaN</td>\n",
              "      <td>16</td>\n",
              "      <td>NaN</td>\n",
              "      <td>16</td>\n",
              "      <td>06/07/2023</td>\n",
              "      <td>MESTRE</td>\n",
              "      <td>01/06/2022</td>\n",
              "    </tr>\n",
              "    <tr>\n",
              "      <th>3</th>\n",
              "      <td>5000000000000</td>\n",
              "      <td>13</td>\n",
              "      <td>1</td>\n",
              "      <td>NaN</td>\n",
              "      <td>4</td>\n",
              "      <td>NaN</td>\n",
              "      <td>0</td>\n",
              "      <td>10/06/2022</td>\n",
              "      <td>HENRIQUE</td>\n",
              "      <td>07/04/2022</td>\n",
              "    </tr>\n",
              "    <tr>\n",
              "      <th>4</th>\n",
              "      <td>2410000000000</td>\n",
              "      <td>45</td>\n",
              "      <td>5</td>\n",
              "      <td>NaN</td>\n",
              "      <td>2</td>\n",
              "      <td>NaN</td>\n",
              "      <td>2</td>\n",
              "      <td>26/06/2023</td>\n",
              "      <td>SMSRS</td>\n",
              "      <td>25/08/2021</td>\n",
              "    </tr>\n",
              "    <tr>\n",
              "      <th>...</th>\n",
              "      <td>...</td>\n",
              "      <td>...</td>\n",
              "      <td>...</td>\n",
              "      <td>...</td>\n",
              "      <td>...</td>\n",
              "      <td>...</td>\n",
              "      <td>...</td>\n",
              "      <td>...</td>\n",
              "      <td>...</td>\n",
              "      <td>...</td>\n",
              "    </tr>\n",
              "    <tr>\n",
              "      <th>58650</th>\n",
              "      <td>2910000000000</td>\n",
              "      <td>6</td>\n",
              "      <td>1</td>\n",
              "      <td>NaN</td>\n",
              "      <td>10</td>\n",
              "      <td>NaN</td>\n",
              "      <td>10</td>\n",
              "      <td>09/06/2023</td>\n",
              "      <td>SETIC</td>\n",
              "      <td>23/06/2023</td>\n",
              "    </tr>\n",
              "    <tr>\n",
              "      <th>58651</th>\n",
              "      <td>5110000000000</td>\n",
              "      <td>47</td>\n",
              "      <td>6</td>\n",
              "      <td>NaN</td>\n",
              "      <td>1</td>\n",
              "      <td>NaN</td>\n",
              "      <td>1</td>\n",
              "      <td>19/06/2023</td>\n",
              "      <td>SCNES</td>\n",
              "      <td>23/06/2023</td>\n",
              "    </tr>\n",
              "    <tr>\n",
              "      <th>58652</th>\n",
              "      <td>5200000000000</td>\n",
              "      <td>47</td>\n",
              "      <td>6</td>\n",
              "      <td>NaN</td>\n",
              "      <td>108</td>\n",
              "      <td>NaN</td>\n",
              "      <td>108</td>\n",
              "      <td>21/06/2023</td>\n",
              "      <td>MESTRE</td>\n",
              "      <td>23/06/2023</td>\n",
              "    </tr>\n",
              "    <tr>\n",
              "      <th>58653</th>\n",
              "      <td>3300000000000</td>\n",
              "      <td>47</td>\n",
              "      <td>6</td>\n",
              "      <td>NaN</td>\n",
              "      <td>44</td>\n",
              "      <td>NaN</td>\n",
              "      <td>0</td>\n",
              "      <td>19/06/2023</td>\n",
              "      <td>ANDREANDRADE</td>\n",
              "      <td>23/06/2023</td>\n",
              "    </tr>\n",
              "    <tr>\n",
              "      <th>58654</th>\n",
              "      <td>3310000000000</td>\n",
              "      <td>34</td>\n",
              "      <td>6</td>\n",
              "      <td>NaN</td>\n",
              "      <td>40</td>\n",
              "      <td>NaN</td>\n",
              "      <td>0</td>\n",
              "      <td>21/06/2023</td>\n",
              "      <td>CNES</td>\n",
              "      <td>23/06/2023</td>\n",
              "    </tr>\n",
              "  </tbody>\n",
              "</table>\n",
              "<p>58655 rows × 10 columns</p>\n",
              "</div>\n",
              "      <button class=\"colab-df-convert\" onclick=\"convertToInteractive('df-14fa4114-cee2-4d13-8052-7fa64c112668')\"\n",
              "              title=\"Convert this dataframe to an interactive table.\"\n",
              "              style=\"display:none;\">\n",
              "\n",
              "  <svg xmlns=\"http://www.w3.org/2000/svg\" height=\"24px\"viewBox=\"0 0 24 24\"\n",
              "       width=\"24px\">\n",
              "    <path d=\"M0 0h24v24H0V0z\" fill=\"none\"/>\n",
              "    <path d=\"M18.56 5.44l.94 2.06.94-2.06 2.06-.94-2.06-.94-.94-2.06-.94 2.06-2.06.94zm-11 1L8.5 8.5l.94-2.06 2.06-.94-2.06-.94L8.5 2.5l-.94 2.06-2.06.94zm10 10l.94 2.06.94-2.06 2.06-.94-2.06-.94-.94-2.06-.94 2.06-2.06.94z\"/><path d=\"M17.41 7.96l-1.37-1.37c-.4-.4-.92-.59-1.43-.59-.52 0-1.04.2-1.43.59L10.3 9.45l-7.72 7.72c-.78.78-.78 2.05 0 2.83L4 21.41c.39.39.9.59 1.41.59.51 0 1.02-.2 1.41-.59l7.78-7.78 2.81-2.81c.8-.78.8-2.07 0-2.86zM5.41 20L4 18.59l7.72-7.72 1.47 1.35L5.41 20z\"/>\n",
              "  </svg>\n",
              "      </button>\n",
              "\n",
              "\n",
              "\n",
              "    <div id=\"df-270d3fcd-e1bb-4c0e-8f2f-7f46e1537a97\">\n",
              "      <button class=\"colab-df-quickchart\" onclick=\"quickchart('df-270d3fcd-e1bb-4c0e-8f2f-7f46e1537a97')\"\n",
              "              title=\"Suggest charts.\"\n",
              "              style=\"display:none;\">\n",
              "\n",
              "<svg xmlns=\"http://www.w3.org/2000/svg\" height=\"24px\"viewBox=\"0 0 24 24\"\n",
              "     width=\"24px\">\n",
              "    <g>\n",
              "        <path d=\"M19 3H5c-1.1 0-2 .9-2 2v14c0 1.1.9 2 2 2h14c1.1 0 2-.9 2-2V5c0-1.1-.9-2-2-2zM9 17H7v-7h2v7zm4 0h-2V7h2v10zm4 0h-2v-4h2v4z\"/>\n",
              "    </g>\n",
              "</svg>\n",
              "      </button>\n",
              "    </div>\n",
              "\n",
              "<style>\n",
              "  .colab-df-quickchart {\n",
              "    background-color: #E8F0FE;\n",
              "    border: none;\n",
              "    border-radius: 50%;\n",
              "    cursor: pointer;\n",
              "    display: none;\n",
              "    fill: #1967D2;\n",
              "    height: 32px;\n",
              "    padding: 0 0 0 0;\n",
              "    width: 32px;\n",
              "  }\n",
              "\n",
              "  .colab-df-quickchart:hover {\n",
              "    background-color: #E2EBFA;\n",
              "    box-shadow: 0px 1px 2px rgba(60, 64, 67, 0.3), 0px 1px 3px 1px rgba(60, 64, 67, 0.15);\n",
              "    fill: #174EA6;\n",
              "  }\n",
              "\n",
              "  [theme=dark] .colab-df-quickchart {\n",
              "    background-color: #3B4455;\n",
              "    fill: #D2E3FC;\n",
              "  }\n",
              "\n",
              "  [theme=dark] .colab-df-quickchart:hover {\n",
              "    background-color: #434B5C;\n",
              "    box-shadow: 0px 1px 3px 1px rgba(0, 0, 0, 0.15);\n",
              "    filter: drop-shadow(0px 1px 2px rgba(0, 0, 0, 0.3));\n",
              "    fill: #FFFFFF;\n",
              "  }\n",
              "</style>\n",
              "\n",
              "    <script>\n",
              "      async function quickchart(key) {\n",
              "        const containerElement = document.querySelector('#' + key);\n",
              "        const charts = await google.colab.kernel.invokeFunction(\n",
              "            'suggestCharts', [key], {});\n",
              "      }\n",
              "    </script>\n",
              "\n",
              "      <script>\n",
              "\n",
              "function displayQuickchartButton(domScope) {\n",
              "  let quickchartButtonEl =\n",
              "    domScope.querySelector('#df-270d3fcd-e1bb-4c0e-8f2f-7f46e1537a97 button.colab-df-quickchart');\n",
              "  quickchartButtonEl.style.display =\n",
              "    google.colab.kernel.accessAllowed ? 'block' : 'none';\n",
              "}\n",
              "\n",
              "        displayQuickchartButton(document);\n",
              "      </script>\n",
              "      <style>\n",
              "    .colab-df-container {\n",
              "      display:flex;\n",
              "      flex-wrap:wrap;\n",
              "      gap: 12px;\n",
              "    }\n",
              "\n",
              "    .colab-df-convert {\n",
              "      background-color: #E8F0FE;\n",
              "      border: none;\n",
              "      border-radius: 50%;\n",
              "      cursor: pointer;\n",
              "      display: none;\n",
              "      fill: #1967D2;\n",
              "      height: 32px;\n",
              "      padding: 0 0 0 0;\n",
              "      width: 32px;\n",
              "    }\n",
              "\n",
              "    .colab-df-convert:hover {\n",
              "      background-color: #E2EBFA;\n",
              "      box-shadow: 0px 1px 2px rgba(60, 64, 67, 0.3), 0px 1px 3px 1px rgba(60, 64, 67, 0.15);\n",
              "      fill: #174EA6;\n",
              "    }\n",
              "\n",
              "    [theme=dark] .colab-df-convert {\n",
              "      background-color: #3B4455;\n",
              "      fill: #D2E3FC;\n",
              "    }\n",
              "\n",
              "    [theme=dark] .colab-df-convert:hover {\n",
              "      background-color: #434B5C;\n",
              "      box-shadow: 0px 1px 3px 1px rgba(0, 0, 0, 0.15);\n",
              "      filter: drop-shadow(0px 1px 2px rgba(0, 0, 0, 0.3));\n",
              "      fill: #FFFFFF;\n",
              "    }\n",
              "  </style>\n",
              "\n",
              "      <script>\n",
              "        const buttonEl =\n",
              "          document.querySelector('#df-14fa4114-cee2-4d13-8052-7fa64c112668 button.colab-df-convert');\n",
              "        buttonEl.style.display =\n",
              "          google.colab.kernel.accessAllowed ? 'block' : 'none';\n",
              "\n",
              "        async function convertToInteractive(key) {\n",
              "          const element = document.querySelector('#df-14fa4114-cee2-4d13-8052-7fa64c112668');\n",
              "          const dataTable =\n",
              "            await google.colab.kernel.invokeFunction('convertToInteractive',\n",
              "                                                     [key], {});\n",
              "          if (!dataTable) return;\n",
              "\n",
              "          const docLinkHtml = 'Like what you see? Visit the ' +\n",
              "            '<a target=\"_blank\" href=https://colab.research.google.com/notebooks/data_table.ipynb>data table notebook</a>'\n",
              "            + ' to learn more about interactive tables.';\n",
              "          element.innerHTML = '';\n",
              "          dataTable['output_type'] = 'display_data';\n",
              "          await google.colab.output.renderOutput(dataTable, element);\n",
              "          const docLink = document.createElement('div');\n",
              "          docLink.innerHTML = docLinkHtml;\n",
              "          element.appendChild(docLink);\n",
              "        }\n",
              "      </script>\n",
              "    </div>\n",
              "  </div>\n"
            ]
          },
          "metadata": {},
          "execution_count": 12
        }
      ]
    },
    {
      "cell_type": "code",
      "source": [
        "from pyspark.sql import SparkSession"
      ],
      "metadata": {
        "id": "t5ouzOnzrYI6"
      },
      "execution_count": 13,
      "outputs": []
    },
    {
      "cell_type": "code",
      "source": [
        "spark = SparkSession.builder.appName('Practise').getOrCreate()\n",
        "spark"
      ],
      "metadata": {
        "colab": {
          "base_uri": "https://localhost:8080/",
          "height": 219
        },
        "id": "rEfRRnKUqW9W",
        "outputId": "b2696bd4-ae98-401f-cca9-e3dbb95d7826"
      },
      "execution_count": 14,
      "outputs": [
        {
          "output_type": "execute_result",
          "data": {
            "text/plain": [
              "<pyspark.sql.session.SparkSession at 0x7b3bd225aad0>"
            ],
            "text/html": [
              "\n",
              "            <div>\n",
              "                <p><b>SparkSession - in-memory</b></p>\n",
              "                \n",
              "        <div>\n",
              "            <p><b>SparkContext</b></p>\n",
              "\n",
              "            <p><a href=\"http://54dfbcc15a2d:4040\">Spark UI</a></p>\n",
              "\n",
              "            <dl>\n",
              "              <dt>Version</dt>\n",
              "                <dd><code>v3.4.1</code></dd>\n",
              "              <dt>Master</dt>\n",
              "                <dd><code>local[*]</code></dd>\n",
              "              <dt>AppName</dt>\n",
              "                <dd><code>Practise</code></dd>\n",
              "            </dl>\n",
              "        </div>\n",
              "        \n",
              "            </div>\n",
              "        "
            ]
          },
          "metadata": {},
          "execution_count": 14
        }
      ]
    },
    {
      "cell_type": "code",
      "source": [
        "# df_spark = spark.read.csv('rlEstabComplementar202306.csv', sep=';')\n",
        "# df_spark.show()"
      ],
      "metadata": {
        "id": "1gMMJS-wqXAI"
      },
      "execution_count": 33,
      "outputs": []
    },
    {
      "cell_type": "code",
      "source": [
        "df_spark2 = spark.read.option('header','true').csv('rlEstabComplementar202306.csv', sep=';')"
      ],
      "metadata": {
        "id": "ap_iGo3wqXDe"
      },
      "execution_count": 36,
      "outputs": []
    },
    {
      "cell_type": "code",
      "source": [
        "type(df_spark2)"
      ],
      "metadata": {
        "colab": {
          "base_uri": "https://localhost:8080/"
        },
        "id": "TRUUELJwyuEy",
        "outputId": "7ec1fdaa-5351-4c1d-a220-281364f05f68"
      },
      "execution_count": 37,
      "outputs": [
        {
          "output_type": "execute_result",
          "data": {
            "text/plain": [
              "pyspark.sql.dataframe.DataFrame"
            ]
          },
          "metadata": {},
          "execution_count": 37
        }
      ]
    },
    {
      "cell_type": "code",
      "source": [
        "df_spark2.head(5)"
      ],
      "metadata": {
        "colab": {
          "base_uri": "https://localhost:8080/"
        },
        "id": "80qAGSylqXGe",
        "outputId": "a8ca76fb-b3f6-46cb-c121-2c8cd44e7a30"
      },
      "execution_count": 38,
      "outputs": [
        {
          "output_type": "execute_result",
          "data": {
            "text/plain": [
              "[Row(CO_UNIDADE='2610000000000', CO_LEITO='36', CO_TIPO_LEITO='2', TP_ALTACOMP=None, QT_EXIST='1', QT_CONTR=None, QT_SUS='0', TO_CHAR(DT_ATUALIZACAO,'DD/MM/YYYY')='07/06/2023', CO_USUARIO='MAELI', TO_CHAR(DT_ATUALIZACAO_ORIGEM,'DD/MM/YYYY')='25/08/2021'),\n",
              " Row(CO_UNIDADE='3200000000000', CO_LEITO='92', CO_TIPO_LEITO='3', TP_ALTACOMP=None, QT_EXIST='20', QT_CONTR=None, QT_SUS='15', TO_CHAR(DT_ATUALIZACAO,'DD/MM/YYYY')='03/05/2023', CO_USUARIO='PENHA', TO_CHAR(DT_ATUALIZACAO_ORIGEM,'DD/MM/YYYY')='25/08/2021'),\n",
              " Row(CO_UNIDADE='2910000000000', CO_LEITO='7', CO_TIPO_LEITO='7', TP_ALTACOMP=None, QT_EXIST='16', QT_CONTR=None, QT_SUS='16', TO_CHAR(DT_ATUALIZACAO,'DD/MM/YYYY')='06/07/2023', CO_USUARIO='MESTRE', TO_CHAR(DT_ATUALIZACAO_ORIGEM,'DD/MM/YYYY')='01/06/2022'),\n",
              " Row(CO_UNIDADE='5000000000000', CO_LEITO='13', CO_TIPO_LEITO='1', TP_ALTACOMP=None, QT_EXIST='4', QT_CONTR=None, QT_SUS='0', TO_CHAR(DT_ATUALIZACAO,'DD/MM/YYYY')='10/06/2022', CO_USUARIO='HENRIQUE', TO_CHAR(DT_ATUALIZACAO_ORIGEM,'DD/MM/YYYY')='07/04/2022'),\n",
              " Row(CO_UNIDADE='2410000000000', CO_LEITO='45', CO_TIPO_LEITO='5', TP_ALTACOMP=None, QT_EXIST='2', QT_CONTR=None, QT_SUS='2', TO_CHAR(DT_ATUALIZACAO,'DD/MM/YYYY')='26/06/2023', CO_USUARIO='SMSRS', TO_CHAR(DT_ATUALIZACAO_ORIGEM,'DD/MM/YYYY')='25/08/2021')]"
            ]
          },
          "metadata": {},
          "execution_count": 38
        }
      ]
    },
    {
      "cell_type": "code",
      "source": [
        "df_spark2.printSchema()"
      ],
      "metadata": {
        "colab": {
          "base_uri": "https://localhost:8080/"
        },
        "id": "VN6MklwBzC3o",
        "outputId": "cc34b33f-bb85-475e-c7cc-f4352c1d595b"
      },
      "execution_count": 39,
      "outputs": [
        {
          "output_type": "stream",
          "name": "stdout",
          "text": [
            "root\n",
            " |-- CO_UNIDADE: string (nullable = true)\n",
            " |-- CO_LEITO: string (nullable = true)\n",
            " |-- CO_TIPO_LEITO: string (nullable = true)\n",
            " |-- TP_ALTACOMP: string (nullable = true)\n",
            " |-- QT_EXIST: string (nullable = true)\n",
            " |-- QT_CONTR: string (nullable = true)\n",
            " |-- QT_SUS: string (nullable = true)\n",
            " |-- TO_CHAR(DT_ATUALIZACAO,'DD/MM/YYYY'): string (nullable = true)\n",
            " |-- CO_USUARIO: string (nullable = true)\n",
            " |-- TO_CHAR(DT_ATUALIZACAO_ORIGEM,'DD/MM/YYYY'): string (nullable = true)\n",
            "\n"
          ]
        }
      ]
    },
    {
      "cell_type": "code",
      "source": [],
      "metadata": {
        "id": "m4zb29mUzC8d"
      },
      "execution_count": null,
      "outputs": []
    },
    {
      "cell_type": "code",
      "source": [],
      "metadata": {
        "id": "fz7yADzvzDBv"
      },
      "execution_count": null,
      "outputs": []
    },
    {
      "cell_type": "code",
      "source": [],
      "metadata": {
        "id": "zXPbC-ugzDGl"
      },
      "execution_count": null,
      "outputs": []
    }
  ]
}
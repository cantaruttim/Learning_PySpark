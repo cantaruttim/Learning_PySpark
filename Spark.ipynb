{
  "nbformat": 4,
  "nbformat_minor": 0,
  "metadata": {
    "colab": {
      "provenance": [],
      "authorship_tag": "ABX9TyMewX9LD1/qfViHmuMamO1u",
      "include_colab_link": true
    },
    "kernelspec": {
      "name": "python3",
      "display_name": "Python 3"
    },
    "language_info": {
      "name": "python"
    }
  },
  "cells": [
    {
      "cell_type": "markdown",
      "metadata": {
        "id": "view-in-github",
        "colab_type": "text"
      },
      "source": [
        "<a href=\"https://colab.research.google.com/github/cantaruttim/Learning_PySpark/blob/main/Spark.ipynb\" target=\"_parent\"><img src=\"https://colab.research.google.com/assets/colab-badge.svg\" alt=\"Open In Colab\"/></a>"
      ]
    },
    {
      "cell_type": "code",
      "source": [
        "!pip install pyspark"
      ],
      "metadata": {
        "colab": {
          "base_uri": "https://localhost:8080/"
        },
        "id": "9EwQuWnQolOY",
        "outputId": "736985bc-1513-4061-cb18-53ba9b9ee10d"
      },
      "execution_count": 1,
      "outputs": [
        {
          "output_type": "stream",
          "name": "stdout",
          "text": [
            "Requirement already satisfied: pyspark in /usr/local/lib/python3.10/dist-packages (3.4.1)\n",
            "Requirement already satisfied: py4j==0.10.9.7 in /usr/local/lib/python3.10/dist-packages (from pyspark) (0.10.9.7)\n"
          ]
        }
      ]
    },
    {
      "cell_type": "markdown",
      "source": [
        "# ***Resilient Distributed Datasets - RDD***"
      ],
      "metadata": {
        "id": "_nhD03rIHjIS"
      }
    },
    {
      "cell_type": "code",
      "source": [
        "import pyspark\n",
        "from pyspark import SparkContext, SparkConf"
      ],
      "metadata": {
        "id": "DjKNrXUZolSU"
      },
      "execution_count": 2,
      "outputs": []
    },
    {
      "cell_type": "code",
      "source": [
        "conf = SparkConf().setAppName('appName').setMaster('local')\n",
        "sc = SparkContext(conf=conf)"
      ],
      "metadata": {
        "id": "V3k-I1nuolXF"
      },
      "execution_count": 3,
      "outputs": []
    },
    {
      "cell_type": "code",
      "source": [
        "data = [1, 2, 3, 4, 5]\n",
        "distData = sc.parallelize(data) # distData is a parallelize distributed dataset"
      ],
      "metadata": {
        "id": "H_65kqCUolf0"
      },
      "execution_count": 4,
      "outputs": []
    },
    {
      "cell_type": "code",
      "source": [
        "distData"
      ],
      "metadata": {
        "colab": {
          "base_uri": "https://localhost:8080/"
        },
        "id": "UqmR-i36j07h",
        "outputId": "8788629b-51e4-49c8-e709-bc94479b8e0b"
      },
      "execution_count": 16,
      "outputs": [
        {
          "output_type": "execute_result",
          "data": {
            "text/plain": [
              "ParallelCollectionRDD[0] at readRDDFromFile at PythonRDD.scala:287"
            ]
          },
          "metadata": {},
          "execution_count": 16
        }
      ]
    },
    {
      "cell_type": "code",
      "source": [
        "distData.reduce(lambda a, b: a + b) ## 1 + 2 = 3 + 3 = 6 + 4 = 10 + 5 = 15"
      ],
      "metadata": {
        "colab": {
          "base_uri": "https://localhost:8080/"
        },
        "id": "xkYUSq6Kj0-k",
        "outputId": "2c3e3023-199f-405e-9b85-28b05e59595d"
      },
      "execution_count": 9,
      "outputs": [
        {
          "output_type": "execute_result",
          "data": {
            "text/plain": [
              "15"
            ]
          },
          "metadata": {},
          "execution_count": 9
        }
      ]
    },
    {
      "cell_type": "code",
      "source": [
        "novo = sc.parallelize(data, 10) # 10 partitions"
      ],
      "metadata": {
        "id": "4gpnL9Bd3k1W"
      },
      "execution_count": 20,
      "outputs": []
    },
    {
      "cell_type": "code",
      "source": [
        "novo.collect() # collect() used to visualized data information."
      ],
      "metadata": {
        "colab": {
          "base_uri": "https://localhost:8080/"
        },
        "id": "VHk7xF7FDypC",
        "outputId": "aea30f1f-8b40-4aa0-9161-9f437c7212b1"
      },
      "execution_count": 21,
      "outputs": [
        {
          "output_type": "execute_result",
          "data": {
            "text/plain": [
              "[1, 2, 3, 4, 5]"
            ]
          },
          "metadata": {},
          "execution_count": 21
        }
      ]
    },
    {
      "cell_type": "code",
      "source": [
        "distFile = sc.textFile(\"data.txt\")"
      ],
      "metadata": {
        "id": "q9vTsp4x3k6A"
      },
      "execution_count": 11,
      "outputs": []
    },
    {
      "cell_type": "code",
      "source": [
        "rdd = sc.parallelize(range(1, 4)).map(lambda x: (x, \"a\" * x))\n",
        "rdd.saveAsSequenceFile(\"path/to/file\")\n",
        "sorted(sc.sequenceFile(\"path/to/file\").collect())"
      ],
      "metadata": {
        "colab": {
          "base_uri": "https://localhost:8080/"
        },
        "id": "UAJ9E7tM3lCO",
        "outputId": "f7cee44e-fb07-4401-eec8-17bbc6e2b63d"
      },
      "execution_count": 13,
      "outputs": [
        {
          "output_type": "execute_result",
          "data": {
            "text/plain": [
              "[(1, 'a'), (2, 'aa'), (3, 'aaa')]"
            ]
          },
          "metadata": {},
          "execution_count": 13
        }
      ]
    },
    {
      "cell_type": "code",
      "source": [
        "lines = sc.textFile(\"Pentateuco.txt\")\n",
        "lineLengths = lines.map(lambda s: len(s)) # as the result of a map transformation.\n",
        "                                          # lineLengths is not immediately computed, due to laziness.\n",
        "totalLength = lineLengths.reduce(lambda a, b: a + b) # which is an action"
      ],
      "metadata": {
        "id": "vvBCSEmN3lGJ"
      },
      "execution_count": 22,
      "outputs": []
    },
    {
      "cell_type": "code",
      "source": [
        "print(lineLengths.collect())"
      ],
      "metadata": {
        "colab": {
          "base_uri": "https://localhost:8080/"
        },
        "id": "x9JLMcUx3lJz",
        "outputId": "7030522b-f89f-4e55-b773-3159deb36aa0"
      },
      "execution_count": 27,
      "outputs": [
        {
          "output_type": "stream",
          "name": "stdout",
          "text": [
            "[31, 0, 33, 52, 0, 34, 33, 0, 53, 38, 32, 0, 17, 11, 16, 18, 18, 0, 47, 34, 52, 54, 0, 39, 0, 60, 57, 62, 5, 0, 28, 0, 56, 20, 0, 0, 31, 0, 15, 0, 47, 10, 34, 49, 50, 0, 14, 0, 14, 15, 0, 0, 27, 0, 0, 31, 0, 2, 9, 1, 67, 1, 37, 1, 48, 1, 56, 1, 39, 0, 20, 0, 2, 0, 0, 0, 0, 10, 35, 0, 0, 0, 0, 0, 0, 0, 0, 0, 0, 0, 0, 0, 0, 0, 0, 0, 0, 0, 0, 0, 0, 0, 0, 0, 0]\n"
          ]
        }
      ]
    },
    {
      "cell_type": "code",
      "source": [
        "totalLength"
      ],
      "metadata": {
        "colab": {
          "base_uri": "https://localhost:8080/"
        },
        "id": "JXSoEEf_HWkP",
        "outputId": "378f1a83-6697-42f2-cad2-7a1f5e211d11"
      },
      "execution_count": 29,
      "outputs": [
        {
          "output_type": "execute_result",
          "data": {
            "text/plain": [
              "1567"
            ]
          },
          "metadata": {},
          "execution_count": 29
        }
      ]
    },
    {
      "cell_type": "code",
      "source": [],
      "metadata": {
        "id": "5jGuqFgsHf_d"
      },
      "execution_count": null,
      "outputs": []
    },
    {
      "cell_type": "code",
      "source": [],
      "metadata": {
        "id": "PZ9VTDDnHgDl"
      },
      "execution_count": null,
      "outputs": []
    },
    {
      "cell_type": "code",
      "source": [],
      "metadata": {
        "id": "epYFyWelHgHu"
      },
      "execution_count": null,
      "outputs": []
    },
    {
      "cell_type": "code",
      "source": [],
      "metadata": {
        "id": "04IAHJMdHgMG"
      },
      "execution_count": null,
      "outputs": []
    },
    {
      "cell_type": "markdown",
      "source": [
        "# **Spark SQL**"
      ],
      "metadata": {
        "id": "sTa07L-dHgPx"
      }
    },
    {
      "cell_type": "code",
      "source": [
        "from pyspark.sql import SparkSession\n",
        "\n",
        "spark = SparkSession \\\n",
        "    .builder \\\n",
        "    .appName(\"Python Spark SQL basic example\") \\\n",
        "    .config(\"spark.some.config.option\", \"some-value\") \\\n",
        "    .getOrCreate()"
      ],
      "metadata": {
        "id": "2VfR-xywMbGE"
      },
      "execution_count": 32,
      "outputs": []
    },
    {
      "cell_type": "code",
      "source": [
        "spark"
      ],
      "metadata": {
        "colab": {
          "base_uri": "https://localhost:8080/",
          "height": 221
        },
        "id": "N-n12-ruMbNY",
        "outputId": "1f4f7005-714f-4f06-c000-3fb572397122"
      },
      "execution_count": 34,
      "outputs": [
        {
          "output_type": "execute_result",
          "data": {
            "text/plain": [
              "<pyspark.sql.session.SparkSession at 0x7eedd46e0d00>"
            ],
            "text/html": [
              "\n",
              "            <div>\n",
              "                <p><b>SparkSession - in-memory</b></p>\n",
              "                \n",
              "        <div>\n",
              "            <p><b>SparkContext</b></p>\n",
              "\n",
              "            <p><a href=\"http://8658a7695123:4040\">Spark UI</a></p>\n",
              "\n",
              "            <dl>\n",
              "              <dt>Version</dt>\n",
              "                <dd><code>v3.4.1</code></dd>\n",
              "              <dt>Master</dt>\n",
              "                <dd><code>local</code></dd>\n",
              "              <dt>AppName</dt>\n",
              "                <dd><code>appName</code></dd>\n",
              "            </dl>\n",
              "        </div>\n",
              "        \n",
              "            </div>\n",
              "        "
            ]
          },
          "metadata": {},
          "execution_count": 34
        }
      ]
    },
    {
      "cell_type": "code",
      "source": [
        "df = spark.read.csv(\"Treino.csv\", sep = ';', header=True)\n",
        "df.show()"
      ],
      "metadata": {
        "colab": {
          "base_uri": "https://localhost:8080/"
        },
        "id": "wL5E-OxlMbQw",
        "outputId": "b7a9174c-5f9e-4b5a-9bea-5aa01b6fa5d5"
      },
      "execution_count": 40,
      "outputs": [
        {
          "output_type": "stream",
          "name": "stdout",
          "text": [
            "+-------+------+---------------+----+\n",
            "|  Aluno|Equipe|Tempo de estudo|Nota|\n",
            "+-------+------+---------------+----+\n",
            "|Aluno A|  Alfa|         1 hora|   2|\n",
            "|Aluno B|  Beta|         1 hora|   8|\n",
            "|Aluno C|  Gama|         1 hora|   2|\n",
            "|Aluno D|  Alfa|        3 horas|   4|\n",
            "|Aluno E|  Beta|        3 horas|   6|\n",
            "|Aluno F|  Gama|        3 horas|  10|\n",
            "|Aluno G|  Alfa|        5 horas|  10|\n",
            "|Aluno H|  Beta|        5 horas|   8|\n",
            "|Aluno I|  Gama|        5 horas|  10|\n",
            "|Aluno J|  Alfa|        7 horas|   8|\n",
            "|Aluno K|  Beta|        7 horas|   9|\n",
            "|Aluno L|  Gama|        7 horas|   8|\n",
            "+-------+------+---------------+----+\n",
            "\n"
          ]
        }
      ]
    },
    {
      "cell_type": "code",
      "source": [
        "df.printSchema()"
      ],
      "metadata": {
        "colab": {
          "base_uri": "https://localhost:8080/"
        },
        "id": "H36ZUEDpPLsx",
        "outputId": "07a83533-7d64-4efc-9a32-8032d2f0c54f"
      },
      "execution_count": 41,
      "outputs": [
        {
          "output_type": "stream",
          "name": "stdout",
          "text": [
            "root\n",
            " |-- Aluno: string (nullable = true)\n",
            " |-- Equipe: string (nullable = true)\n",
            " |-- Tempo de estudo: string (nullable = true)\n",
            " |-- Nota: string (nullable = true)\n",
            "\n"
          ]
        }
      ]
    },
    {
      "cell_type": "code",
      "source": [
        "df.select('Nota', 'Tempo de estudo')\\\n",
        "  .orderBy('Equipe')\\\n",
        "  .show()"
      ],
      "metadata": {
        "colab": {
          "base_uri": "https://localhost:8080/"
        },
        "id": "bucEWPLSPLyT",
        "outputId": "5417d1d0-e64b-4a78-f57d-d092b6afd1ea"
      },
      "execution_count": 45,
      "outputs": [
        {
          "output_type": "stream",
          "name": "stdout",
          "text": [
            "+----+---------------+\n",
            "|Nota|Tempo de estudo|\n",
            "+----+---------------+\n",
            "|   2|         1 hora|\n",
            "|   4|        3 horas|\n",
            "|  10|        5 horas|\n",
            "|   8|        7 horas|\n",
            "|   8|         1 hora|\n",
            "|   6|        3 horas|\n",
            "|   8|        5 horas|\n",
            "|   9|        7 horas|\n",
            "|   2|         1 hora|\n",
            "|  10|        3 horas|\n",
            "|  10|        5 horas|\n",
            "|   8|        7 horas|\n",
            "+----+---------------+\n",
            "\n"
          ]
        }
      ]
    },
    {
      "cell_type": "code",
      "source": [],
      "metadata": {
        "id": "C138WVbGQZpQ"
      },
      "execution_count": null,
      "outputs": []
    },
    {
      "cell_type": "code",
      "source": [],
      "metadata": {
        "id": "H4XcW01ZQZuz"
      },
      "execution_count": null,
      "outputs": []
    },
    {
      "cell_type": "code",
      "source": [],
      "metadata": {
        "id": "M1zeHIrBPJ55"
      },
      "execution_count": null,
      "outputs": []
    },
    {
      "cell_type": "code",
      "source": [],
      "metadata": {
        "id": "mCkh8ZMGPJ-h"
      },
      "execution_count": null,
      "outputs": []
    },
    {
      "cell_type": "code",
      "source": [],
      "metadata": {
        "id": "zfzRVVFuPKCT"
      },
      "execution_count": null,
      "outputs": []
    },
    {
      "cell_type": "code",
      "source": [],
      "metadata": {
        "id": "oCdK5r52PKGF"
      },
      "execution_count": null,
      "outputs": []
    },
    {
      "cell_type": "code",
      "source": [],
      "metadata": {
        "id": "WTvys5hVMbT-"
      },
      "execution_count": null,
      "outputs": []
    }
  ]
}
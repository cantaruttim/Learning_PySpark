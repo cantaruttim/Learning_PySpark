{
  "nbformat": 4,
  "nbformat_minor": 0,
  "metadata": {
    "colab": {
      "provenance": [],
      "collapsed_sections": [
        "ATtKe5OxlMMU"
      ],
      "authorship_tag": "ABX9TyOzwcMoXd5uLsSjzbQL8Msu",
      "include_colab_link": true
    },
    "kernelspec": {
      "name": "python3",
      "display_name": "Python 3"
    },
    "language_info": {
      "name": "python"
    }
  },
  "cells": [
    {
      "cell_type": "markdown",
      "metadata": {
        "id": "view-in-github",
        "colab_type": "text"
      },
      "source": [
        "<a href=\"https://colab.research.google.com/github/cantaruttim/Learning_PySpark/blob/main/PySpark.ipynb\" target=\"_parent\"><img src=\"https://colab.research.google.com/assets/colab-badge.svg\" alt=\"Open In Colab\"/></a>"
      ]
    },
    {
      "cell_type": "code",
      "execution_count": 1,
      "metadata": {
        "id": "RU9AVaYDmd28",
        "colab": {
          "base_uri": "https://localhost:8080/"
        },
        "outputId": "386ea158-e2e5-4e6a-b9d3-7dd2dc327ce3"
      },
      "outputs": [
        {
          "output_type": "stream",
          "name": "stdout",
          "text": [
            "Collecting pyspark\n",
            "  Downloading pyspark-3.4.1.tar.gz (310.8 MB)\n",
            "\u001b[2K     \u001b[90m━━━━━━━━━━━━━━━━━━━━━━━━━━━━━━━━━━━━━━━\u001b[0m \u001b[32m310.8/310.8 MB\u001b[0m \u001b[31m2.5 MB/s\u001b[0m eta \u001b[36m0:00:00\u001b[0m\n",
            "\u001b[?25h  Preparing metadata (setup.py) ... \u001b[?25l\u001b[?25hdone\n",
            "Requirement already satisfied: py4j==0.10.9.7 in /usr/local/lib/python3.10/dist-packages (from pyspark) (0.10.9.7)\n",
            "Building wheels for collected packages: pyspark\n",
            "  Building wheel for pyspark (setup.py) ... \u001b[?25l\u001b[?25hdone\n",
            "  Created wheel for pyspark: filename=pyspark-3.4.1-py2.py3-none-any.whl size=311285397 sha256=dcb965391fc7dde337ee83ed988ff41ce0cfe49a3400ca10542c0b5ece251cb4\n",
            "  Stored in directory: /root/.cache/pip/wheels/0d/77/a3/ff2f74cc9ab41f8f594dabf0579c2a7c6de920d584206e0834\n",
            "Successfully built pyspark\n",
            "Installing collected packages: pyspark\n",
            "Successfully installed pyspark-3.4.1\n"
          ]
        }
      ],
      "source": [
        "!pip install pyspark"
      ]
    },
    {
      "cell_type": "code",
      "source": [
        "import pyspark\n",
        "import pandas as pd\n",
        "import numpy as np"
      ],
      "metadata": {
        "id": "4UwyvzYpmqD1"
      },
      "execution_count": 3,
      "outputs": []
    },
    {
      "cell_type": "code",
      "source": [
        "df = pd.read_csv(\"/content/tbEstabelecimento202306.csv\", sep=';', encoding='latin1')\n",
        "df"
      ],
      "metadata": {
        "colab": {
          "base_uri": "https://localhost:8080/",
          "height": 852
        },
        "id": "XnZ2osW3qWuR",
        "outputId": "c8c86b47-6865-4d30-a1b5-27c4819adf4f"
      },
      "execution_count": 5,
      "outputs": [
        {
          "output_type": "execute_result",
          "data": {
            "text/plain": [
              "          CO_UNIDADE  CO_CNES  NU_CNPJ_MANTENEDORA  TP_PFPJ  NIVEL_DEP  \\\n",
              "0      2609602569302  2569302         1.040418e+13        3          3   \n",
              "1      2609602571943  2571943         1.040418e+13        3          3   \n",
              "2      2609602344637  2344637         1.040418e+13        3          3   \n",
              "3      2609602344696  2344696         1.040418e+13        3          3   \n",
              "4      3112002142295  2142295                  NaN        3          1   \n",
              "...              ...      ...                  ...      ...        ...   \n",
              "15764  4202909743383  9743383                  NaN        3          1   \n",
              "15765  5218509726055  9726055                  NaN        3          1   \n",
              "15766  4301609741496  9741496                  NaN        3          1   \n",
              "15767  3170200184926   184926                  NaN        3          1   \n",
              "15768  3529400213780   213780                  NaN        3          1   \n",
              "\n",
              "                                         NO_RAZAO_SOCIAL  \\\n",
              "0                         PREFEITURA MUNICIPAL DE OLINDA   \n",
              "1                         PREFEITURA MUNICIPAL DE OLINDA   \n",
              "2                         PREFEITURA MUNICIPAL DE OLINDA   \n",
              "3                         PREFEITURA MUNICIPAL DE OLINDA   \n",
              "4              FUNDACAO COMUNITARIA DE SAUDE DE CANDEIAS   \n",
              "...                                                  ...   \n",
              "15764                                    MARCOS DE SOUSA   \n",
              "15765                    NUCLEO SAUDE ODONTOLOGIA EIRELI   \n",
              "15766                   CLINICA DE ULTRASSONOGRAFIA LTDA   \n",
              "15767  CONSULTORIO ODONTOLOGICO MICHELLE PANACIONI EI...   \n",
              "15768                                                NaN   \n",
              "\n",
              "                                       NO_FANTASIA  \\\n",
              "0                            USF BULTRINS MONTE II   \n",
              "1                                    UNIDADE MOVEL   \n",
              "2                                 USF ALTO DA MINA   \n",
              "3                       USF ILHA DE SANTANA I E II   \n",
              "4                           HOSPITAL CARLOS CHAGAS   \n",
              "...                                            ...   \n",
              "15764               SPACO TERAPEUTICO ROSA MYSTICA   \n",
              "15765                     NUCLEO SAUDE ODONTOLOGIA   \n",
              "15766             CLINICA DE ULTRASSONOGRAFIA LTDA   \n",
              "15767  CONSULTORIO ODONTOLOGICO MICHELLE PANACIONI   \n",
              "15768                                          NaN   \n",
              "\n",
              "                         NO_LOGRADOURO NU_ENDERECO NO_COMPLEMENTO  ...  \\\n",
              "0         RUA PREFEITO MANOEL REGUEIRA         540            NaN  ...   \n",
              "1                           RUA DO SOL         311            NaN  ...   \n",
              "2                           RUA AVENCA          49            NaN  ...   \n",
              "3                    RUA DA INTEGRACAO         S/N            NaN  ...   \n",
              "4      AVENIDA PEDRO VIEIRA DE AZEVEDO         687            NaN  ...   \n",
              "...                                ...         ...            ...  ...   \n",
              "15764                   FELIPE SCHMIDT          31       SALA 301  ...   \n",
              "15765                  HERCULANO COSTA          66        SALA 01  ...   \n",
              "15766                 SETE DE SETEMBRO         709         SALA A  ...   \n",
              "15767            RUA QUINTINO BOCAIUVA         148         SALA 3  ...   \n",
              "15768                              NaN         NaN            NaN  ...   \n",
              "\n",
              "      TP_ESTAB_SEMPRE_ABERTO  ST_GERACREDITO_GERENTE_SGIF ST_CONEXAO_INTERNET  \\\n",
              "0                          N                          NaN                   S   \n",
              "1                          N                          NaN                   N   \n",
              "2                          N                          NaN                   S   \n",
              "3                          N                          NaN                   S   \n",
              "4                          S                          NaN                   S   \n",
              "...                      ...                          ...                 ...   \n",
              "15764                      N                          NaN                   S   \n",
              "15765                      N                          NaN                   S   \n",
              "15766                      N                          NaN                   S   \n",
              "15767                      N                          NaN                   S   \n",
              "15768                    NaN                          NaN                 NaN   \n",
              "\n",
              "      CO_TIPO_UNIDADE NO_FANTASIA_ABREV TP_GESTAO  \\\n",
              "0                 NaN               NaN         M   \n",
              "1                 NaN               NaN         M   \n",
              "2                 NaN               NaN         M   \n",
              "3                 NaN               NaN         M   \n",
              "4                 NaN               NaN         M   \n",
              "...               ...               ...       ...   \n",
              "15764             NaN               NaN         M   \n",
              "15765             NaN               NaN         M   \n",
              "15766             NaN               NaN         M   \n",
              "15767             NaN               NaN         M   \n",
              "15768             NaN               NaN       NaN   \n",
              "\n",
              "      TO_CHAR(DT_ATUALIZACAO_ORIGEM,'DD/MM/YYYY') CO_TIPO_ESTABELECIMENTO  \\\n",
              "0                                      18/06/2003                     NaN   \n",
              "1                                      18/06/2003                    16.0   \n",
              "2                                      30/10/2001                     1.0   \n",
              "3                                      30/10/2001                     1.0   \n",
              "4                                      21/03/2002                     6.0   \n",
              "...                                           ...                     ...   \n",
              "15764                                  19/03/2019                    19.0   \n",
              "15765                                  19/03/2019                    16.0   \n",
              "15766                                  21/03/2019                    18.0   \n",
              "15767                                  28/06/2020                    16.0   \n",
              "15768                                         NaN                     NaN   \n",
              "\n",
              "      CO_ATIVIDADE_PRINCIPAL  ST_CONTRATO_FORMALIZADO  \n",
              "0                        NaN                      NaN  \n",
              "1                        1.0                      NaN  \n",
              "2                       12.0                      NaN  \n",
              "3                       12.0                      NaN  \n",
              "4                        9.0                        S  \n",
              "...                      ...                      ...  \n",
              "15764                    3.0                      NaN  \n",
              "15765                    1.0                      NaN  \n",
              "15766                    2.0                      NaN  \n",
              "15767                    1.0                        N  \n",
              "15768                    NaN                      NaN  \n",
              "\n",
              "[15769 rows x 54 columns]"
            ],
            "text/html": [
              "\n",
              "\n",
              "  <div id=\"df-f4e5f9f8-1406-4f94-9447-8862d8fae617\">\n",
              "    <div class=\"colab-df-container\">\n",
              "      <div>\n",
              "<style scoped>\n",
              "    .dataframe tbody tr th:only-of-type {\n",
              "        vertical-align: middle;\n",
              "    }\n",
              "\n",
              "    .dataframe tbody tr th {\n",
              "        vertical-align: top;\n",
              "    }\n",
              "\n",
              "    .dataframe thead th {\n",
              "        text-align: right;\n",
              "    }\n",
              "</style>\n",
              "<table border=\"1\" class=\"dataframe\">\n",
              "  <thead>\n",
              "    <tr style=\"text-align: right;\">\n",
              "      <th></th>\n",
              "      <th>CO_UNIDADE</th>\n",
              "      <th>CO_CNES</th>\n",
              "      <th>NU_CNPJ_MANTENEDORA</th>\n",
              "      <th>TP_PFPJ</th>\n",
              "      <th>NIVEL_DEP</th>\n",
              "      <th>NO_RAZAO_SOCIAL</th>\n",
              "      <th>NO_FANTASIA</th>\n",
              "      <th>NO_LOGRADOURO</th>\n",
              "      <th>NU_ENDERECO</th>\n",
              "      <th>NO_COMPLEMENTO</th>\n",
              "      <th>...</th>\n",
              "      <th>TP_ESTAB_SEMPRE_ABERTO</th>\n",
              "      <th>ST_GERACREDITO_GERENTE_SGIF</th>\n",
              "      <th>ST_CONEXAO_INTERNET</th>\n",
              "      <th>CO_TIPO_UNIDADE</th>\n",
              "      <th>NO_FANTASIA_ABREV</th>\n",
              "      <th>TP_GESTAO</th>\n",
              "      <th>TO_CHAR(DT_ATUALIZACAO_ORIGEM,'DD/MM/YYYY')</th>\n",
              "      <th>CO_TIPO_ESTABELECIMENTO</th>\n",
              "      <th>CO_ATIVIDADE_PRINCIPAL</th>\n",
              "      <th>ST_CONTRATO_FORMALIZADO</th>\n",
              "    </tr>\n",
              "  </thead>\n",
              "  <tbody>\n",
              "    <tr>\n",
              "      <th>0</th>\n",
              "      <td>2609602569302</td>\n",
              "      <td>2569302</td>\n",
              "      <td>1.040418e+13</td>\n",
              "      <td>3</td>\n",
              "      <td>3</td>\n",
              "      <td>PREFEITURA MUNICIPAL DE OLINDA</td>\n",
              "      <td>USF BULTRINS MONTE II</td>\n",
              "      <td>RUA PREFEITO MANOEL REGUEIRA</td>\n",
              "      <td>540</td>\n",
              "      <td>NaN</td>\n",
              "      <td>...</td>\n",
              "      <td>N</td>\n",
              "      <td>NaN</td>\n",
              "      <td>S</td>\n",
              "      <td>NaN</td>\n",
              "      <td>NaN</td>\n",
              "      <td>M</td>\n",
              "      <td>18/06/2003</td>\n",
              "      <td>NaN</td>\n",
              "      <td>NaN</td>\n",
              "      <td>NaN</td>\n",
              "    </tr>\n",
              "    <tr>\n",
              "      <th>1</th>\n",
              "      <td>2609602571943</td>\n",
              "      <td>2571943</td>\n",
              "      <td>1.040418e+13</td>\n",
              "      <td>3</td>\n",
              "      <td>3</td>\n",
              "      <td>PREFEITURA MUNICIPAL DE OLINDA</td>\n",
              "      <td>UNIDADE MOVEL</td>\n",
              "      <td>RUA DO SOL</td>\n",
              "      <td>311</td>\n",
              "      <td>NaN</td>\n",
              "      <td>...</td>\n",
              "      <td>N</td>\n",
              "      <td>NaN</td>\n",
              "      <td>N</td>\n",
              "      <td>NaN</td>\n",
              "      <td>NaN</td>\n",
              "      <td>M</td>\n",
              "      <td>18/06/2003</td>\n",
              "      <td>16.0</td>\n",
              "      <td>1.0</td>\n",
              "      <td>NaN</td>\n",
              "    </tr>\n",
              "    <tr>\n",
              "      <th>2</th>\n",
              "      <td>2609602344637</td>\n",
              "      <td>2344637</td>\n",
              "      <td>1.040418e+13</td>\n",
              "      <td>3</td>\n",
              "      <td>3</td>\n",
              "      <td>PREFEITURA MUNICIPAL DE OLINDA</td>\n",
              "      <td>USF ALTO DA MINA</td>\n",
              "      <td>RUA AVENCA</td>\n",
              "      <td>49</td>\n",
              "      <td>NaN</td>\n",
              "      <td>...</td>\n",
              "      <td>N</td>\n",
              "      <td>NaN</td>\n",
              "      <td>S</td>\n",
              "      <td>NaN</td>\n",
              "      <td>NaN</td>\n",
              "      <td>M</td>\n",
              "      <td>30/10/2001</td>\n",
              "      <td>1.0</td>\n",
              "      <td>12.0</td>\n",
              "      <td>NaN</td>\n",
              "    </tr>\n",
              "    <tr>\n",
              "      <th>3</th>\n",
              "      <td>2609602344696</td>\n",
              "      <td>2344696</td>\n",
              "      <td>1.040418e+13</td>\n",
              "      <td>3</td>\n",
              "      <td>3</td>\n",
              "      <td>PREFEITURA MUNICIPAL DE OLINDA</td>\n",
              "      <td>USF ILHA DE SANTANA I E II</td>\n",
              "      <td>RUA DA INTEGRACAO</td>\n",
              "      <td>S/N</td>\n",
              "      <td>NaN</td>\n",
              "      <td>...</td>\n",
              "      <td>N</td>\n",
              "      <td>NaN</td>\n",
              "      <td>S</td>\n",
              "      <td>NaN</td>\n",
              "      <td>NaN</td>\n",
              "      <td>M</td>\n",
              "      <td>30/10/2001</td>\n",
              "      <td>1.0</td>\n",
              "      <td>12.0</td>\n",
              "      <td>NaN</td>\n",
              "    </tr>\n",
              "    <tr>\n",
              "      <th>4</th>\n",
              "      <td>3112002142295</td>\n",
              "      <td>2142295</td>\n",
              "      <td>NaN</td>\n",
              "      <td>3</td>\n",
              "      <td>1</td>\n",
              "      <td>FUNDACAO COMUNITARIA DE SAUDE DE CANDEIAS</td>\n",
              "      <td>HOSPITAL CARLOS CHAGAS</td>\n",
              "      <td>AVENIDA PEDRO VIEIRA DE AZEVEDO</td>\n",
              "      <td>687</td>\n",
              "      <td>NaN</td>\n",
              "      <td>...</td>\n",
              "      <td>S</td>\n",
              "      <td>NaN</td>\n",
              "      <td>S</td>\n",
              "      <td>NaN</td>\n",
              "      <td>NaN</td>\n",
              "      <td>M</td>\n",
              "      <td>21/03/2002</td>\n",
              "      <td>6.0</td>\n",
              "      <td>9.0</td>\n",
              "      <td>S</td>\n",
              "    </tr>\n",
              "    <tr>\n",
              "      <th>...</th>\n",
              "      <td>...</td>\n",
              "      <td>...</td>\n",
              "      <td>...</td>\n",
              "      <td>...</td>\n",
              "      <td>...</td>\n",
              "      <td>...</td>\n",
              "      <td>...</td>\n",
              "      <td>...</td>\n",
              "      <td>...</td>\n",
              "      <td>...</td>\n",
              "      <td>...</td>\n",
              "      <td>...</td>\n",
              "      <td>...</td>\n",
              "      <td>...</td>\n",
              "      <td>...</td>\n",
              "      <td>...</td>\n",
              "      <td>...</td>\n",
              "      <td>...</td>\n",
              "      <td>...</td>\n",
              "      <td>...</td>\n",
              "      <td>...</td>\n",
              "    </tr>\n",
              "    <tr>\n",
              "      <th>15764</th>\n",
              "      <td>4202909743383</td>\n",
              "      <td>9743383</td>\n",
              "      <td>NaN</td>\n",
              "      <td>3</td>\n",
              "      <td>1</td>\n",
              "      <td>MARCOS DE SOUSA</td>\n",
              "      <td>SPACO TERAPEUTICO ROSA MYSTICA</td>\n",
              "      <td>FELIPE SCHMIDT</td>\n",
              "      <td>31</td>\n",
              "      <td>SALA 301</td>\n",
              "      <td>...</td>\n",
              "      <td>N</td>\n",
              "      <td>NaN</td>\n",
              "      <td>S</td>\n",
              "      <td>NaN</td>\n",
              "      <td>NaN</td>\n",
              "      <td>M</td>\n",
              "      <td>19/03/2019</td>\n",
              "      <td>19.0</td>\n",
              "      <td>3.0</td>\n",
              "      <td>NaN</td>\n",
              "    </tr>\n",
              "    <tr>\n",
              "      <th>15765</th>\n",
              "      <td>5218509726055</td>\n",
              "      <td>9726055</td>\n",
              "      <td>NaN</td>\n",
              "      <td>3</td>\n",
              "      <td>1</td>\n",
              "      <td>NUCLEO SAUDE ODONTOLOGIA EIRELI</td>\n",
              "      <td>NUCLEO SAUDE ODONTOLOGIA</td>\n",
              "      <td>HERCULANO COSTA</td>\n",
              "      <td>66</td>\n",
              "      <td>SALA 01</td>\n",
              "      <td>...</td>\n",
              "      <td>N</td>\n",
              "      <td>NaN</td>\n",
              "      <td>S</td>\n",
              "      <td>NaN</td>\n",
              "      <td>NaN</td>\n",
              "      <td>M</td>\n",
              "      <td>19/03/2019</td>\n",
              "      <td>16.0</td>\n",
              "      <td>1.0</td>\n",
              "      <td>NaN</td>\n",
              "    </tr>\n",
              "    <tr>\n",
              "      <th>15766</th>\n",
              "      <td>4301609741496</td>\n",
              "      <td>9741496</td>\n",
              "      <td>NaN</td>\n",
              "      <td>3</td>\n",
              "      <td>1</td>\n",
              "      <td>CLINICA DE ULTRASSONOGRAFIA LTDA</td>\n",
              "      <td>CLINICA DE ULTRASSONOGRAFIA LTDA</td>\n",
              "      <td>SETE DE SETEMBRO</td>\n",
              "      <td>709</td>\n",
              "      <td>SALA A</td>\n",
              "      <td>...</td>\n",
              "      <td>N</td>\n",
              "      <td>NaN</td>\n",
              "      <td>S</td>\n",
              "      <td>NaN</td>\n",
              "      <td>NaN</td>\n",
              "      <td>M</td>\n",
              "      <td>21/03/2019</td>\n",
              "      <td>18.0</td>\n",
              "      <td>2.0</td>\n",
              "      <td>NaN</td>\n",
              "    </tr>\n",
              "    <tr>\n",
              "      <th>15767</th>\n",
              "      <td>3170200184926</td>\n",
              "      <td>184926</td>\n",
              "      <td>NaN</td>\n",
              "      <td>3</td>\n",
              "      <td>1</td>\n",
              "      <td>CONSULTORIO ODONTOLOGICO MICHELLE PANACIONI EI...</td>\n",
              "      <td>CONSULTORIO ODONTOLOGICO MICHELLE PANACIONI</td>\n",
              "      <td>RUA QUINTINO BOCAIUVA</td>\n",
              "      <td>148</td>\n",
              "      <td>SALA 3</td>\n",
              "      <td>...</td>\n",
              "      <td>N</td>\n",
              "      <td>NaN</td>\n",
              "      <td>S</td>\n",
              "      <td>NaN</td>\n",
              "      <td>NaN</td>\n",
              "      <td>M</td>\n",
              "      <td>28/06/2020</td>\n",
              "      <td>16.0</td>\n",
              "      <td>1.0</td>\n",
              "      <td>N</td>\n",
              "    </tr>\n",
              "    <tr>\n",
              "      <th>15768</th>\n",
              "      <td>3529400213780</td>\n",
              "      <td>213780</td>\n",
              "      <td>NaN</td>\n",
              "      <td>3</td>\n",
              "      <td>1</td>\n",
              "      <td>NaN</td>\n",
              "      <td>NaN</td>\n",
              "      <td>NaN</td>\n",
              "      <td>NaN</td>\n",
              "      <td>NaN</td>\n",
              "      <td>...</td>\n",
              "      <td>NaN</td>\n",
              "      <td>NaN</td>\n",
              "      <td>NaN</td>\n",
              "      <td>NaN</td>\n",
              "      <td>NaN</td>\n",
              "      <td>NaN</td>\n",
              "      <td>NaN</td>\n",
              "      <td>NaN</td>\n",
              "      <td>NaN</td>\n",
              "      <td>NaN</td>\n",
              "    </tr>\n",
              "  </tbody>\n",
              "</table>\n",
              "<p>15769 rows × 54 columns</p>\n",
              "</div>\n",
              "      <button class=\"colab-df-convert\" onclick=\"convertToInteractive('df-f4e5f9f8-1406-4f94-9447-8862d8fae617')\"\n",
              "              title=\"Convert this dataframe to an interactive table.\"\n",
              "              style=\"display:none;\">\n",
              "\n",
              "  <svg xmlns=\"http://www.w3.org/2000/svg\" height=\"24px\"viewBox=\"0 0 24 24\"\n",
              "       width=\"24px\">\n",
              "    <path d=\"M0 0h24v24H0V0z\" fill=\"none\"/>\n",
              "    <path d=\"M18.56 5.44l.94 2.06.94-2.06 2.06-.94-2.06-.94-.94-2.06-.94 2.06-2.06.94zm-11 1L8.5 8.5l.94-2.06 2.06-.94-2.06-.94L8.5 2.5l-.94 2.06-2.06.94zm10 10l.94 2.06.94-2.06 2.06-.94-2.06-.94-.94-2.06-.94 2.06-2.06.94z\"/><path d=\"M17.41 7.96l-1.37-1.37c-.4-.4-.92-.59-1.43-.59-.52 0-1.04.2-1.43.59L10.3 9.45l-7.72 7.72c-.78.78-.78 2.05 0 2.83L4 21.41c.39.39.9.59 1.41.59.51 0 1.02-.2 1.41-.59l7.78-7.78 2.81-2.81c.8-.78.8-2.07 0-2.86zM5.41 20L4 18.59l7.72-7.72 1.47 1.35L5.41 20z\"/>\n",
              "  </svg>\n",
              "      </button>\n",
              "\n",
              "\n",
              "\n",
              "    <div id=\"df-7f329d02-67e9-4856-a9b0-c709696cd454\">\n",
              "      <button class=\"colab-df-quickchart\" onclick=\"quickchart('df-7f329d02-67e9-4856-a9b0-c709696cd454')\"\n",
              "              title=\"Suggest charts.\"\n",
              "              style=\"display:none;\">\n",
              "\n",
              "<svg xmlns=\"http://www.w3.org/2000/svg\" height=\"24px\"viewBox=\"0 0 24 24\"\n",
              "     width=\"24px\">\n",
              "    <g>\n",
              "        <path d=\"M19 3H5c-1.1 0-2 .9-2 2v14c0 1.1.9 2 2 2h14c1.1 0 2-.9 2-2V5c0-1.1-.9-2-2-2zM9 17H7v-7h2v7zm4 0h-2V7h2v10zm4 0h-2v-4h2v4z\"/>\n",
              "    </g>\n",
              "</svg>\n",
              "      </button>\n",
              "    </div>\n",
              "\n",
              "<style>\n",
              "  .colab-df-quickchart {\n",
              "    background-color: #E8F0FE;\n",
              "    border: none;\n",
              "    border-radius: 50%;\n",
              "    cursor: pointer;\n",
              "    display: none;\n",
              "    fill: #1967D2;\n",
              "    height: 32px;\n",
              "    padding: 0 0 0 0;\n",
              "    width: 32px;\n",
              "  }\n",
              "\n",
              "  .colab-df-quickchart:hover {\n",
              "    background-color: #E2EBFA;\n",
              "    box-shadow: 0px 1px 2px rgba(60, 64, 67, 0.3), 0px 1px 3px 1px rgba(60, 64, 67, 0.15);\n",
              "    fill: #174EA6;\n",
              "  }\n",
              "\n",
              "  [theme=dark] .colab-df-quickchart {\n",
              "    background-color: #3B4455;\n",
              "    fill: #D2E3FC;\n",
              "  }\n",
              "\n",
              "  [theme=dark] .colab-df-quickchart:hover {\n",
              "    background-color: #434B5C;\n",
              "    box-shadow: 0px 1px 3px 1px rgba(0, 0, 0, 0.15);\n",
              "    filter: drop-shadow(0px 1px 2px rgba(0, 0, 0, 0.3));\n",
              "    fill: #FFFFFF;\n",
              "  }\n",
              "</style>\n",
              "\n",
              "    <script>\n",
              "      async function quickchart(key) {\n",
              "        const containerElement = document.querySelector('#' + key);\n",
              "        const charts = await google.colab.kernel.invokeFunction(\n",
              "            'suggestCharts', [key], {});\n",
              "      }\n",
              "    </script>\n",
              "\n",
              "      <script>\n",
              "\n",
              "function displayQuickchartButton(domScope) {\n",
              "  let quickchartButtonEl =\n",
              "    domScope.querySelector('#df-7f329d02-67e9-4856-a9b0-c709696cd454 button.colab-df-quickchart');\n",
              "  quickchartButtonEl.style.display =\n",
              "    google.colab.kernel.accessAllowed ? 'block' : 'none';\n",
              "}\n",
              "\n",
              "        displayQuickchartButton(document);\n",
              "      </script>\n",
              "      <style>\n",
              "    .colab-df-container {\n",
              "      display:flex;\n",
              "      flex-wrap:wrap;\n",
              "      gap: 12px;\n",
              "    }\n",
              "\n",
              "    .colab-df-convert {\n",
              "      background-color: #E8F0FE;\n",
              "      border: none;\n",
              "      border-radius: 50%;\n",
              "      cursor: pointer;\n",
              "      display: none;\n",
              "      fill: #1967D2;\n",
              "      height: 32px;\n",
              "      padding: 0 0 0 0;\n",
              "      width: 32px;\n",
              "    }\n",
              "\n",
              "    .colab-df-convert:hover {\n",
              "      background-color: #E2EBFA;\n",
              "      box-shadow: 0px 1px 2px rgba(60, 64, 67, 0.3), 0px 1px 3px 1px rgba(60, 64, 67, 0.15);\n",
              "      fill: #174EA6;\n",
              "    }\n",
              "\n",
              "    [theme=dark] .colab-df-convert {\n",
              "      background-color: #3B4455;\n",
              "      fill: #D2E3FC;\n",
              "    }\n",
              "\n",
              "    [theme=dark] .colab-df-convert:hover {\n",
              "      background-color: #434B5C;\n",
              "      box-shadow: 0px 1px 3px 1px rgba(0, 0, 0, 0.15);\n",
              "      filter: drop-shadow(0px 1px 2px rgba(0, 0, 0, 0.3));\n",
              "      fill: #FFFFFF;\n",
              "    }\n",
              "  </style>\n",
              "\n",
              "      <script>\n",
              "        const buttonEl =\n",
              "          document.querySelector('#df-f4e5f9f8-1406-4f94-9447-8862d8fae617 button.colab-df-convert');\n",
              "        buttonEl.style.display =\n",
              "          google.colab.kernel.accessAllowed ? 'block' : 'none';\n",
              "\n",
              "        async function convertToInteractive(key) {\n",
              "          const element = document.querySelector('#df-f4e5f9f8-1406-4f94-9447-8862d8fae617');\n",
              "          const dataTable =\n",
              "            await google.colab.kernel.invokeFunction('convertToInteractive',\n",
              "                                                     [key], {});\n",
              "          if (!dataTable) return;\n",
              "\n",
              "          const docLinkHtml = 'Like what you see? Visit the ' +\n",
              "            '<a target=\"_blank\" href=https://colab.research.google.com/notebooks/data_table.ipynb>data table notebook</a>'\n",
              "            + ' to learn more about interactive tables.';\n",
              "          element.innerHTML = '';\n",
              "          dataTable['output_type'] = 'display_data';\n",
              "          await google.colab.output.renderOutput(dataTable, element);\n",
              "          const docLink = document.createElement('div');\n",
              "          docLink.innerHTML = docLinkHtml;\n",
              "          element.appendChild(docLink);\n",
              "        }\n",
              "      </script>\n",
              "    </div>\n",
              "  </div>\n"
            ]
          },
          "metadata": {},
          "execution_count": 5
        }
      ]
    },
    {
      "cell_type": "markdown",
      "source": [
        "# Primeira Parte"
      ],
      "metadata": {
        "id": "ATtKe5OxlMMU"
      }
    },
    {
      "cell_type": "code",
      "source": [
        "from pyspark.sql import SparkSession"
      ],
      "metadata": {
        "id": "t5ouzOnzrYI6"
      },
      "execution_count": 6,
      "outputs": []
    },
    {
      "cell_type": "code",
      "source": [
        "spark = SparkSession.builder.appName('Practise').getOrCreate()\n",
        "spark"
      ],
      "metadata": {
        "colab": {
          "base_uri": "https://localhost:8080/",
          "height": 219
        },
        "id": "rEfRRnKUqW9W",
        "outputId": "b8227c47-4548-4cf3-f9be-5b44626e3931"
      },
      "execution_count": 7,
      "outputs": [
        {
          "output_type": "execute_result",
          "data": {
            "text/plain": [
              "<pyspark.sql.session.SparkSession at 0x7edda61f4310>"
            ],
            "text/html": [
              "\n",
              "            <div>\n",
              "                <p><b>SparkSession - in-memory</b></p>\n",
              "                \n",
              "        <div>\n",
              "            <p><b>SparkContext</b></p>\n",
              "\n",
              "            <p><a href=\"http://70eb88f920fb:4040\">Spark UI</a></p>\n",
              "\n",
              "            <dl>\n",
              "              <dt>Version</dt>\n",
              "                <dd><code>v3.4.1</code></dd>\n",
              "              <dt>Master</dt>\n",
              "                <dd><code>local[*]</code></dd>\n",
              "              <dt>AppName</dt>\n",
              "                <dd><code>Practise</code></dd>\n",
              "            </dl>\n",
              "        </div>\n",
              "        \n",
              "            </div>\n",
              "        "
            ]
          },
          "metadata": {},
          "execution_count": 7
        }
      ]
    },
    {
      "cell_type": "code",
      "source": [
        "# df_spark = spark.read.csv('rlEstabComplementar202306.csv', sep=';')\n",
        "# df_spark.show()"
      ],
      "metadata": {
        "id": "1gMMJS-wqXAI"
      },
      "execution_count": null,
      "outputs": []
    },
    {
      "cell_type": "code",
      "source": [
        "df_spark2 = spark.read.option('header','true').csv('/content/tbEstabelecimento202306.csv', sep=';')"
      ],
      "metadata": {
        "id": "ap_iGo3wqXDe"
      },
      "execution_count": 9,
      "outputs": []
    },
    {
      "cell_type": "code",
      "source": [
        "type(df_spark2)"
      ],
      "metadata": {
        "colab": {
          "base_uri": "https://localhost:8080/"
        },
        "id": "TRUUELJwyuEy",
        "outputId": "d5ae8fb2-8a86-4889-d781-878339322a41"
      },
      "execution_count": 10,
      "outputs": [
        {
          "output_type": "execute_result",
          "data": {
            "text/plain": [
              "pyspark.sql.dataframe.DataFrame"
            ]
          },
          "metadata": {},
          "execution_count": 10
        }
      ]
    },
    {
      "cell_type": "code",
      "source": [
        "df_spark2.head(5)"
      ],
      "metadata": {
        "colab": {
          "base_uri": "https://localhost:8080/"
        },
        "id": "80qAGSylqXGe",
        "outputId": "b6722c47-db1b-4393-d5e1-dbde6bfb6523"
      },
      "execution_count": 11,
      "outputs": [
        {
          "output_type": "execute_result",
          "data": {
            "text/plain": [
              "[Row(CO_UNIDADE='2609602569302', CO_CNES='2569302', NU_CNPJ_MANTENEDORA='10404184000109', TP_PFPJ='3', NIVEL_DEP='3', NO_RAZAO_SOCIAL='PREFEITURA MUNICIPAL DE OLINDA', NO_FANTASIA='USF BULTRINS MONTE II', NO_LOGRADOURO='RUA PREFEITO MANOEL REGUEIRA', NU_ENDERECO='540', NO_COMPLEMENTO=None, NO_BAIRRO='BULTRINS', CO_CEP='53320460', CO_REGIAO_SAUDE='001', CO_MICRO_REGIAO=None, CO_DISTRITO_SANITARIO='02', CO_DISTRITO_ADMINISTRATIVO=None, NU_TELEFONE='(81)34930626', NU_FAX=None, NO_EMAIL=None, NU_CPF=None, NU_CNPJ=None, CO_ATIVIDADE='04', CO_CLIENTELA='02', NU_ALVARA=None, DT_EXPEDICAO=None, TP_ORGAO_EXPEDIDOR=None, DT_VAL_LIC_SANI=None, TP_LIC_SANI=None, TP_UNIDADE='02', CO_TURNO_ATENDIMENTO='03', CO_ESTADO_GESTOR='26', CO_MUNICIPIO_GESTOR='260960', TO_CHAR(DT_ATUALIZACAO,'DD/MM/YYYY')='28/11/2017', CO_USUARIO='ANA KARLA', CO_CPFDIRETORCLN='10258000449', REG_DIRETORCLN='157002', ST_ADESAO_FILANTROP=None, CO_MOTIVO_DESAB='04', NO_URL=None, NU_LATITUDE=None, NU_LONGITUDE=None, TO_CHAR(DT_ATU_GEO,'DD/MM/YYYY')=None, NO_USUARIO_GEO=None, CO_NATUREZA_JUR='1244', TP_ESTAB_SEMPRE_ABERTO='N', ST_GERACREDITO_GERENTE_SGIF=None, ST_CONEXAO_INTERNET='S', CO_TIPO_UNIDADE=None, NO_FANTASIA_ABREV=None, TP_GESTAO='M', TO_CHAR(DT_ATUALIZACAO_ORIGEM,'DD/MM/YYYY')='18/06/2003', CO_TIPO_ESTABELECIMENTO=None, CO_ATIVIDADE_PRINCIPAL=None, ST_CONTRATO_FORMALIZADO=None),\n",
              " Row(CO_UNIDADE='2609602571943', CO_CNES='2571943', NU_CNPJ_MANTENEDORA='10404184000109', TP_PFPJ='3', NIVEL_DEP='3', NO_RAZAO_SOCIAL='PREFEITURA MUNICIPAL DE OLINDA', NO_FANTASIA='UNIDADE MOVEL', NO_LOGRADOURO='RUA DO SOL', NU_ENDERECO='311', NO_COMPLEMENTO=None, NO_BAIRRO='CARMO', CO_CEP='53120010', CO_REGIAO_SAUDE='001', CO_MICRO_REGIAO=None, CO_DISTRITO_SANITARIO='02', CO_DISTRITO_ADMINISTRATIVO=None, NU_TELEFONE='(81)34294465', NU_FAX=None, NO_EMAIL=None, NU_CPF=None, NU_CNPJ=None, CO_ATIVIDADE='04', CO_CLIENTELA='01', NU_ALVARA=None, DT_EXPEDICAO=None, TP_ORGAO_EXPEDIDOR=None, DT_VAL_LIC_SANI=None, TP_LIC_SANI=None, TP_UNIDADE='40', CO_TURNO_ATENDIMENTO='01', CO_ESTADO_GESTOR='26', CO_MUNICIPIO_GESTOR='260960', TO_CHAR(DT_ATUALIZACAO,'DD/MM/YYYY')='06/07/2023', CO_USUARIO='ANA KARLA', CO_CPFDIRETORCLN='68887302472', REG_DIRETORCLN='6191', ST_ADESAO_FILANTROP=None, CO_MOTIVO_DESAB=None, NO_URL=None, NU_LATITUDE='-8.0105168', NU_LONGITUDE='-34.8427588', TO_CHAR(DT_ATU_GEO,'DD/MM/YYYY')='06/07/2023', NO_USUARIO_GEO='ANA', CO_NATUREZA_JUR='1244', TP_ESTAB_SEMPRE_ABERTO='N', ST_GERACREDITO_GERENTE_SGIF=None, ST_CONEXAO_INTERNET='N', CO_TIPO_UNIDADE=None, NO_FANTASIA_ABREV=None, TP_GESTAO='M', TO_CHAR(DT_ATUALIZACAO_ORIGEM,'DD/MM/YYYY')='18/06/2003', CO_TIPO_ESTABELECIMENTO='016', CO_ATIVIDADE_PRINCIPAL='001', ST_CONTRATO_FORMALIZADO=None),\n",
              " Row(CO_UNIDADE='2609602344637', CO_CNES='2344637', NU_CNPJ_MANTENEDORA='10404184000109', TP_PFPJ='3', NIVEL_DEP='3', NO_RAZAO_SOCIAL='PREFEITURA MUNICIPAL DE OLINDA', NO_FANTASIA='USF ALTO DA MINA', NO_LOGRADOURO='RUA AVENCA', NU_ENDERECO='49', NO_COMPLEMENTO=None, NO_BAIRRO='ALTO DA MINA', CO_CEP='53250441', CO_REGIAO_SAUDE='001', CO_MICRO_REGIAO=None, CO_DISTRITO_SANITARIO='02', CO_DISTRITO_ADMINISTRATIVO=None, NU_TELEFONE='(81)33051133', NU_FAX=None, NO_EMAIL=None, NU_CPF=None, NU_CNPJ=None, CO_ATIVIDADE='04', CO_CLIENTELA='01', NU_ALVARA=None, DT_EXPEDICAO=None, TP_ORGAO_EXPEDIDOR=None, DT_VAL_LIC_SANI=None, TP_LIC_SANI=None, TP_UNIDADE='02', CO_TURNO_ATENDIMENTO='03', CO_ESTADO_GESTOR='26', CO_MUNICIPIO_GESTOR='260960', TO_CHAR(DT_ATUALIZACAO,'DD/MM/YYYY')='01/06/2023', CO_USUARIO='ANA KARLA', CO_CPFDIRETORCLN='03760998445', REG_DIRETORCLN='322481', ST_ADESAO_FILANTROP=None, CO_MOTIVO_DESAB=None, NO_URL=None, NU_LATITUDE='-7.9944275', NU_LONGITUDE='-34.8534609', TO_CHAR(DT_ATU_GEO,'DD/MM/YYYY')='03/08/2022', NO_USUARIO_GEO='ANA', CO_NATUREZA_JUR='1244', TP_ESTAB_SEMPRE_ABERTO='N', ST_GERACREDITO_GERENTE_SGIF=None, ST_CONEXAO_INTERNET='S', CO_TIPO_UNIDADE=None, NO_FANTASIA_ABREV=None, TP_GESTAO='M', TO_CHAR(DT_ATUALIZACAO_ORIGEM,'DD/MM/YYYY')='30/10/2001', CO_TIPO_ESTABELECIMENTO='001', CO_ATIVIDADE_PRINCIPAL='012', ST_CONTRATO_FORMALIZADO=None),\n",
              " Row(CO_UNIDADE='2609602344696', CO_CNES='2344696', NU_CNPJ_MANTENEDORA='10404184000109', TP_PFPJ='3', NIVEL_DEP='3', NO_RAZAO_SOCIAL='PREFEITURA MUNICIPAL DE OLINDA', NO_FANTASIA='USF ILHA DE SANTANA I E II', NO_LOGRADOURO='RUA DA INTEGRACAO', NU_ENDERECO='S/N', NO_COMPLEMENTO=None, NO_BAIRRO='JARDIM ATLANTICO', CO_CEP='53060001', CO_REGIAO_SAUDE='001', CO_MICRO_REGIAO=None, CO_DISTRITO_SANITARIO='02', CO_DISTRITO_ADMINISTRATIVO=None, NU_TELEFONE='(81)34324703', NU_FAX=None, NO_EMAIL=None, NU_CPF=None, NU_CNPJ=None, CO_ATIVIDADE='04', CO_CLIENTELA='01', NU_ALVARA=None, DT_EXPEDICAO=None, TP_ORGAO_EXPEDIDOR=None, DT_VAL_LIC_SANI=None, TP_LIC_SANI=None, TP_UNIDADE='02', CO_TURNO_ATENDIMENTO='03', CO_ESTADO_GESTOR='26', CO_MUNICIPIO_GESTOR='260960', TO_CHAR(DT_ATUALIZACAO,'DD/MM/YYYY')='06/07/2023', CO_USUARIO='ANA KARLA', CO_CPFDIRETORCLN='68829736449', REG_DIRETORCLN='91829', ST_ADESAO_FILANTROP=None, CO_MOTIVO_DESAB=None, NO_URL=None, NU_LATITUDE='-8.0412002', NU_LONGITUDE='-34.879982', TO_CHAR(DT_ATU_GEO,'DD/MM/YYYY')='06/07/2023', NO_USUARIO_GEO='ANA', CO_NATUREZA_JUR='1244', TP_ESTAB_SEMPRE_ABERTO='N', ST_GERACREDITO_GERENTE_SGIF=None, ST_CONEXAO_INTERNET='S', CO_TIPO_UNIDADE=None, NO_FANTASIA_ABREV=None, TP_GESTAO='M', TO_CHAR(DT_ATUALIZACAO_ORIGEM,'DD/MM/YYYY')='30/10/2001', CO_TIPO_ESTABELECIMENTO='001', CO_ATIVIDADE_PRINCIPAL='012', ST_CONTRATO_FORMALIZADO=None),\n",
              " Row(CO_UNIDADE='3112002142295', CO_CNES='2142295', NU_CNPJ_MANTENEDORA=None, TP_PFPJ='3', NIVEL_DEP='1', NO_RAZAO_SOCIAL='FUNDACAO COMUNITARIA DE SAUDE DE CANDEIAS', NO_FANTASIA='HOSPITAL CARLOS CHAGAS', NO_LOGRADOURO='AVENIDA PEDRO VIEIRA DE AZEVEDO', NU_ENDERECO='687', NO_COMPLEMENTO=None, NO_BAIRRO='CENTRO', CO_CEP='37280000', CO_REGIAO_SAUDE='15', CO_MICRO_REGIAO=None, CO_DISTRITO_SANITARIO=None, CO_DISTRITO_ADMINISTRATIVO='0000', NU_TELEFONE='035-3833.-1285', NU_FAX=None, NO_EMAIL='hospitalcarloschagas@yahoo.com.br', NU_CPF=None, NU_CNPJ='19343383000129', CO_ATIVIDADE='04', CO_CLIENTELA='03', NU_ALVARA='SRS/VS/DIV/139/2017', DT_EXPEDICAO='28-set-2017 00:00:00', TP_ORGAO_EXPEDIDOR='1 ', DT_VAL_LIC_SANI=None, TP_LIC_SANI=None, TP_UNIDADE='05', CO_TURNO_ATENDIMENTO='06', CO_ESTADO_GESTOR='31', CO_MUNICIPIO_GESTOR='311200', TO_CHAR(DT_ATUALIZACAO,'DD/MM/YYYY')='29/05/2023', CO_USUARIO='ISABEL', CO_CPFDIRETORCLN='08722114602', REG_DIRETORCLN='63649', ST_ADESAO_FILANTROP='2', CO_MOTIVO_DESAB=None, NO_URL=None, NU_LATITUDE='-20.767', NU_LONGITUDE='-45.276', TO_CHAR(DT_ATU_GEO,'DD/MM/YYYY')='30/04/2019', NO_USUARIO_GEO='ADRIANA', CO_NATUREZA_JUR='3069', TP_ESTAB_SEMPRE_ABERTO='S', ST_GERACREDITO_GERENTE_SGIF=None, ST_CONEXAO_INTERNET='S', CO_TIPO_UNIDADE=None, NO_FANTASIA_ABREV=None, TP_GESTAO='M', TO_CHAR(DT_ATUALIZACAO_ORIGEM,'DD/MM/YYYY')='21/03/2002', CO_TIPO_ESTABELECIMENTO='006', CO_ATIVIDADE_PRINCIPAL='009', ST_CONTRATO_FORMALIZADO='S')]"
            ]
          },
          "metadata": {},
          "execution_count": 11
        }
      ]
    },
    {
      "cell_type": "code",
      "source": [
        "df_spark2.printSchema()"
      ],
      "metadata": {
        "id": "VN6MklwBzC3o",
        "outputId": "4a6db54a-76f3-429d-c58c-9cf7018a8a9c",
        "colab": {
          "base_uri": "https://localhost:8080/"
        }
      },
      "execution_count": 12,
      "outputs": [
        {
          "output_type": "stream",
          "name": "stdout",
          "text": [
            "root\n",
            " |-- CO_UNIDADE: string (nullable = true)\n",
            " |-- CO_CNES: string (nullable = true)\n",
            " |-- NU_CNPJ_MANTENEDORA: string (nullable = true)\n",
            " |-- TP_PFPJ: string (nullable = true)\n",
            " |-- NIVEL_DEP: string (nullable = true)\n",
            " |-- NO_RAZAO_SOCIAL: string (nullable = true)\n",
            " |-- NO_FANTASIA: string (nullable = true)\n",
            " |-- NO_LOGRADOURO: string (nullable = true)\n",
            " |-- NU_ENDERECO: string (nullable = true)\n",
            " |-- NO_COMPLEMENTO: string (nullable = true)\n",
            " |-- NO_BAIRRO: string (nullable = true)\n",
            " |-- CO_CEP: string (nullable = true)\n",
            " |-- CO_REGIAO_SAUDE: string (nullable = true)\n",
            " |-- CO_MICRO_REGIAO: string (nullable = true)\n",
            " |-- CO_DISTRITO_SANITARIO: string (nullable = true)\n",
            " |-- CO_DISTRITO_ADMINISTRATIVO: string (nullable = true)\n",
            " |-- NU_TELEFONE: string (nullable = true)\n",
            " |-- NU_FAX: string (nullable = true)\n",
            " |-- NO_EMAIL: string (nullable = true)\n",
            " |-- NU_CPF: string (nullable = true)\n",
            " |-- NU_CNPJ: string (nullable = true)\n",
            " |-- CO_ATIVIDADE: string (nullable = true)\n",
            " |-- CO_CLIENTELA: string (nullable = true)\n",
            " |-- NU_ALVARA: string (nullable = true)\n",
            " |-- DT_EXPEDICAO: string (nullable = true)\n",
            " |-- TP_ORGAO_EXPEDIDOR: string (nullable = true)\n",
            " |-- DT_VAL_LIC_SANI: string (nullable = true)\n",
            " |-- TP_LIC_SANI: string (nullable = true)\n",
            " |-- TP_UNIDADE: string (nullable = true)\n",
            " |-- CO_TURNO_ATENDIMENTO: string (nullable = true)\n",
            " |-- CO_ESTADO_GESTOR: string (nullable = true)\n",
            " |-- CO_MUNICIPIO_GESTOR: string (nullable = true)\n",
            " |-- TO_CHAR(DT_ATUALIZACAO,'DD/MM/YYYY'): string (nullable = true)\n",
            " |-- CO_USUARIO: string (nullable = true)\n",
            " |-- CO_CPFDIRETORCLN: string (nullable = true)\n",
            " |-- REG_DIRETORCLN: string (nullable = true)\n",
            " |-- ST_ADESAO_FILANTROP: string (nullable = true)\n",
            " |-- CO_MOTIVO_DESAB: string (nullable = true)\n",
            " |-- NO_URL: string (nullable = true)\n",
            " |-- NU_LATITUDE: string (nullable = true)\n",
            " |-- NU_LONGITUDE: string (nullable = true)\n",
            " |-- TO_CHAR(DT_ATU_GEO,'DD/MM/YYYY'): string (nullable = true)\n",
            " |-- NO_USUARIO_GEO: string (nullable = true)\n",
            " |-- CO_NATUREZA_JUR: string (nullable = true)\n",
            " |-- TP_ESTAB_SEMPRE_ABERTO: string (nullable = true)\n",
            " |-- ST_GERACREDITO_GERENTE_SGIF: string (nullable = true)\n",
            " |-- ST_CONEXAO_INTERNET: string (nullable = true)\n",
            " |-- CO_TIPO_UNIDADE: string (nullable = true)\n",
            " |-- NO_FANTASIA_ABREV: string (nullable = true)\n",
            " |-- TP_GESTAO: string (nullable = true)\n",
            " |-- TO_CHAR(DT_ATUALIZACAO_ORIGEM,'DD/MM/YYYY'): string (nullable = true)\n",
            " |-- CO_TIPO_ESTABELECIMENTO: string (nullable = true)\n",
            " |-- CO_ATIVIDADE_PRINCIPAL: string (nullable = true)\n",
            " |-- ST_CONTRATO_FORMALIZADO: string (nullable = true)\n",
            "\n"
          ]
        }
      ]
    },
    {
      "cell_type": "markdown",
      "source": [
        "# Segunda Parte"
      ],
      "metadata": {
        "id": "m4zb29mUzC8d"
      }
    },
    {
      "cell_type": "code",
      "source": [
        "!pip install pyspark"
      ],
      "metadata": {
        "id": "zisX0_iWlQRB"
      },
      "execution_count": null,
      "outputs": []
    },
    {
      "cell_type": "code",
      "source": [
        "from pyspark.sql import SparkSession"
      ],
      "metadata": {
        "id": "CVLlph4glQVK"
      },
      "execution_count": 2,
      "outputs": []
    },
    {
      "cell_type": "code",
      "source": [
        "spark = SparkSession.builder.appName(\"DataFrame\").getOrCreate()\n",
        "spark"
      ],
      "metadata": {
        "colab": {
          "base_uri": "https://localhost:8080/",
          "height": 219
        },
        "id": "Rr0vqncPlQZA",
        "outputId": "1f28186e-b4ad-4c3f-8bcd-be1cfa34abeb"
      },
      "execution_count": 3,
      "outputs": [
        {
          "output_type": "execute_result",
          "data": {
            "text/plain": [
              "<pyspark.sql.session.SparkSession at 0x7d3ed326c040>"
            ],
            "text/html": [
              "\n",
              "            <div>\n",
              "                <p><b>SparkSession - in-memory</b></p>\n",
              "                \n",
              "        <div>\n",
              "            <p><b>SparkContext</b></p>\n",
              "\n",
              "            <p><a href=\"http://141cdc6d4bb4:4040\">Spark UI</a></p>\n",
              "\n",
              "            <dl>\n",
              "              <dt>Version</dt>\n",
              "                <dd><code>v3.4.1</code></dd>\n",
              "              <dt>Master</dt>\n",
              "                <dd><code>local[*]</code></dd>\n",
              "              <dt>AppName</dt>\n",
              "                <dd><code>DataFrame</code></dd>\n",
              "            </dl>\n",
              "        </div>\n",
              "        \n",
              "            </div>\n",
              "        "
            ]
          },
          "metadata": {},
          "execution_count": 3
        }
      ]
    },
    {
      "cell_type": "code",
      "source": [
        "## read the dataset\n",
        "\n",
        "spark.read.option('header','true').csv('/content/tbEstabelecimento202306.csv')"
      ],
      "metadata": {
        "colab": {
          "base_uri": "https://localhost:8080/"
        },
        "id": "9wylkEdLlQb6",
        "outputId": "462a1bbc-7bef-4d0c-b02d-8b44de54167b"
      },
      "execution_count": 4,
      "outputs": [
        {
          "output_type": "execute_result",
          "data": {
            "text/plain": [
              "DataFrame[\"CO_UNIDADE\";\"CO_CNES\";\"NU_CNPJ_MANTENEDORA\";\"TP_PFPJ\";\"NIVEL_DEP\";\"NO_RAZAO_SOCIAL\";\"NO_FANTASIA\";\"NO_LOGRADOURO\";\"NU_ENDERECO\";\"NO_COMPLEMENTO\";\"NO_BAIRRO\";\"CO_CEP\";\"CO_REGIAO_SAUDE\";\"CO_MICRO_REGIAO\";\"CO_DISTRITO_SANITARIO\";\"CO_DISTRITO_ADMINISTRATIVO\";\"NU_TELEFONE\";\"NU_FAX\";\"NO_EMAIL\";\"NU_CPF\";\"NU_CNPJ\";\"CO_ATIVIDADE\";\"CO_CLIENTELA\";\"NU_ALVARA\";\"DT_EXPEDICAO\";\"TP_ORGAO_EXPEDIDOR\";\"DT_VAL_LIC_SANI\";\"TP_LIC_SANI\";\"TP_UNIDADE\";\"CO_TURNO_ATENDIMENTO\";\"CO_ESTADO_GESTOR\";\"CO_MUNICIPIO_GESTOR\";\"TO_CHAR(DT_ATUALIZACAO: string, 'DD/MM/YYYY')\";\"CO_USUARIO\";\"CO_CPFDIRETORCLN\";\"REG_DIRETORCLN\";\"ST_ADESAO_FILANTROP\";\"CO_MOTIVO_DESAB\";\"NO_URL\";\"NU_LATITUDE\";\"NU_LONGITUDE\";\"TO_CHAR(DT_ATU_GEO: string, 'DD/MM/YYYY')\";\"NO_USUARIO_GEO\";\"CO_NATUREZA_JUR\";\"TP_ESTAB_SEMPRE_ABERTO\";\"ST_GERACREDITO_GERENTE_SGIF\";\"ST_CONEXAO_INTERNET\";\"CO_TIPO_UNIDADE\";\"NO_FANTASIA_ABREV\";\"TP_GESTAO\";\"TO_CHAR(DT_ATUALIZACAO_ORIGEM: string, 'DD/MM/YYYY')\";\"CO_TIPO_ESTABELECIMENTO\";\"CO_ATIVIDADE_PRINCIPAL\";\"ST_CONTRATO_FORMALIZADO\": string]"
            ]
          },
          "metadata": {},
          "execution_count": 4
        }
      ]
    },
    {
      "cell_type": "code",
      "source": [
        "dataset = spark.read.option('header','true').csv('/content/tbEstabelecimento202306.csv', sep = \";\", inferSchema=True)\n",
        "\n",
        "# inferSchema=True coloca os dados no formato de input\n",
        "# inferSchema=False deixa todos os valores como string (default)"
      ],
      "metadata": {
        "id": "fz7yADzvzDBv"
      },
      "execution_count": 14,
      "outputs": []
    },
    {
      "cell_type": "code",
      "source": [
        "### Check the Schema\n",
        "\n",
        "dataset.printSchema()"
      ],
      "metadata": {
        "id": "zXPbC-ugzDGl",
        "colab": {
          "base_uri": "https://localhost:8080/"
        },
        "outputId": "5b4b6297-4f7d-487e-cf00-4c52d263ca8e"
      },
      "execution_count": 13,
      "outputs": [
        {
          "output_type": "stream",
          "name": "stdout",
          "text": [
            "root\n",
            " |-- CO_UNIDADE: string (nullable = true)\n",
            " |-- CO_CNES: integer (nullable = true)\n",
            " |-- NU_CNPJ_MANTENEDORA: long (nullable = true)\n",
            " |-- TP_PFPJ: integer (nullable = true)\n",
            " |-- NIVEL_DEP: integer (nullable = true)\n",
            " |-- NO_RAZAO_SOCIAL: string (nullable = true)\n",
            " |-- NO_FANTASIA: string (nullable = true)\n",
            " |-- NO_LOGRADOURO: string (nullable = true)\n",
            " |-- NU_ENDERECO: string (nullable = true)\n",
            " |-- NO_COMPLEMENTO: string (nullable = true)\n",
            " |-- NO_BAIRRO: string (nullable = true)\n",
            " |-- CO_CEP: integer (nullable = true)\n",
            " |-- CO_REGIAO_SAUDE: string (nullable = true)\n",
            " |-- CO_MICRO_REGIAO: string (nullable = true)\n",
            " |-- CO_DISTRITO_SANITARIO: string (nullable = true)\n",
            " |-- CO_DISTRITO_ADMINISTRATIVO: string (nullable = true)\n",
            " |-- NU_TELEFONE: string (nullable = true)\n",
            " |-- NU_FAX: string (nullable = true)\n",
            " |-- NO_EMAIL: string (nullable = true)\n",
            " |-- NU_CPF: long (nullable = true)\n",
            " |-- NU_CNPJ: long (nullable = true)\n",
            " |-- CO_ATIVIDADE: integer (nullable = true)\n",
            " |-- CO_CLIENTELA: long (nullable = true)\n",
            " |-- NU_ALVARA: string (nullable = true)\n",
            " |-- DT_EXPEDICAO: string (nullable = true)\n",
            " |-- TP_ORGAO_EXPEDIDOR: double (nullable = true)\n",
            " |-- DT_VAL_LIC_SANI: string (nullable = true)\n",
            " |-- TP_LIC_SANI: integer (nullable = true)\n",
            " |-- TP_UNIDADE: integer (nullable = true)\n",
            " |-- CO_TURNO_ATENDIMENTO: integer (nullable = true)\n",
            " |-- CO_ESTADO_GESTOR: integer (nullable = true)\n",
            " |-- CO_MUNICIPIO_GESTOR: string (nullable = true)\n",
            " |-- TO_CHAR(DT_ATUALIZACAO,'DD/MM/YYYY'): string (nullable = true)\n",
            " |-- CO_USUARIO: string (nullable = true)\n",
            " |-- CO_CPFDIRETORCLN: long (nullable = true)\n",
            " |-- REG_DIRETORCLN: string (nullable = true)\n",
            " |-- ST_ADESAO_FILANTROP: string (nullable = true)\n",
            " |-- CO_MOTIVO_DESAB: integer (nullable = true)\n",
            " |-- NO_URL: string (nullable = true)\n",
            " |-- NU_LATITUDE: string (nullable = true)\n",
            " |-- NU_LONGITUDE: string (nullable = true)\n",
            " |-- TO_CHAR(DT_ATU_GEO,'DD/MM/YYYY'): string (nullable = true)\n",
            " |-- NO_USUARIO_GEO: string (nullable = true)\n",
            " |-- CO_NATUREZA_JUR: integer (nullable = true)\n",
            " |-- TP_ESTAB_SEMPRE_ABERTO: string (nullable = true)\n",
            " |-- ST_GERACREDITO_GERENTE_SGIF: string (nullable = true)\n",
            " |-- ST_CONEXAO_INTERNET: string (nullable = true)\n",
            " |-- CO_TIPO_UNIDADE: string (nullable = true)\n",
            " |-- NO_FANTASIA_ABREV: string (nullable = true)\n",
            " |-- TP_GESTAO: string (nullable = true)\n",
            " |-- TO_CHAR(DT_ATUALIZACAO_ORIGEM,'DD/MM/YYYY'): string (nullable = true)\n",
            " |-- CO_TIPO_ESTABELECIMENTO: integer (nullable = true)\n",
            " |-- CO_ATIVIDADE_PRINCIPAL: integer (nullable = true)\n",
            " |-- ST_CONTRATO_FORMALIZADO: string (nullable = true)\n",
            "\n"
          ]
        }
      ]
    },
    {
      "cell_type": "code",
      "source": [
        "## Podemos fazer desse jeito também\n",
        "\n",
        "dataset = spark.read.csv(\"/content/tbEstabelecimento202306.csv\", sep = \";\", header = True, inferSchema = True)\n",
        "dataset.show()"
      ],
      "metadata": {
        "colab": {
          "base_uri": "https://localhost:8080/"
        },
        "id": "rNvos_zjMtKB",
        "outputId": "7f617ab2-5dfc-4850-d94c-3a96a7e15178"
      },
      "execution_count": 15,
      "outputs": [
        {
          "output_type": "stream",
          "name": "stdout",
          "text": [
            "+-------------+-------+-------------------+-------+---------+--------------------+--------------------+--------------------+-----------+-----------------+----------------+--------+---------------+---------------+---------------------+--------------------------+--------------------+------------+--------------------+-----------+--------------+------------+------------+-------------------+--------------------+------------------+--------------------+-----------+----------+--------------------+----------------+-------------------+------------------------------------+-----------+----------------+--------------+-------------------+---------------+------+-------------------+------------------+--------------------------------+--------------+---------------+----------------------+---------------------------+-------------------+---------------+-----------------+---------+-------------------------------------------+-----------------------+----------------------+-----------------------+\n",
            "|   CO_UNIDADE|CO_CNES|NU_CNPJ_MANTENEDORA|TP_PFPJ|NIVEL_DEP|     NO_RAZAO_SOCIAL|         NO_FANTASIA|       NO_LOGRADOURO|NU_ENDERECO|   NO_COMPLEMENTO|       NO_BAIRRO|  CO_CEP|CO_REGIAO_SAUDE|CO_MICRO_REGIAO|CO_DISTRITO_SANITARIO|CO_DISTRITO_ADMINISTRATIVO|         NU_TELEFONE|      NU_FAX|            NO_EMAIL|     NU_CPF|       NU_CNPJ|CO_ATIVIDADE|CO_CLIENTELA|          NU_ALVARA|        DT_EXPEDICAO|TP_ORGAO_EXPEDIDOR|     DT_VAL_LIC_SANI|TP_LIC_SANI|TP_UNIDADE|CO_TURNO_ATENDIMENTO|CO_ESTADO_GESTOR|CO_MUNICIPIO_GESTOR|TO_CHAR(DT_ATUALIZACAO,'DD/MM/YYYY')| CO_USUARIO|CO_CPFDIRETORCLN|REG_DIRETORCLN|ST_ADESAO_FILANTROP|CO_MOTIVO_DESAB|NO_URL|        NU_LATITUDE|      NU_LONGITUDE|TO_CHAR(DT_ATU_GEO,'DD/MM/YYYY')|NO_USUARIO_GEO|CO_NATUREZA_JUR|TP_ESTAB_SEMPRE_ABERTO|ST_GERACREDITO_GERENTE_SGIF|ST_CONEXAO_INTERNET|CO_TIPO_UNIDADE|NO_FANTASIA_ABREV|TP_GESTAO|TO_CHAR(DT_ATUALIZACAO_ORIGEM,'DD/MM/YYYY')|CO_TIPO_ESTABELECIMENTO|CO_ATIVIDADE_PRINCIPAL|ST_CONTRATO_FORMALIZADO|\n",
            "+-------------+-------+-------------------+-------+---------+--------------------+--------------------+--------------------+-----------+-----------------+----------------+--------+---------------+---------------+---------------------+--------------------------+--------------------+------------+--------------------+-----------+--------------+------------+------------+-------------------+--------------------+------------------+--------------------+-----------+----------+--------------------+----------------+-------------------+------------------------------------+-----------+----------------+--------------+-------------------+---------------+------+-------------------+------------------+--------------------------------+--------------+---------------+----------------------+---------------------------+-------------------+---------------+-----------------+---------+-------------------------------------------+-----------------------+----------------------+-----------------------+\n",
            "|2609602569302|2569302|     10404184000109|      3|        3|PREFEITURA MUNICI...|USF BULTRINS MONT...|RUA PREFEITO MANO...|        540|             null|        BULTRINS|53320460|            001|           null|                   02|                      null|        (81)34930626|        null|                null|       null|          null|           4|           2|               null|                null|              null|                null|       null|         2|                   3|              26|             260960|                          28/11/2017|  ANA KARLA|     10258000449|        157002|               null|              4|  null|               null|              null|                            null|          null|           1244|                     N|                       null|                  S|           null|             null|        M|                                 18/06/2003|                   null|                  null|                   null|\n",
            "|2609602571943|2571943|     10404184000109|      3|        3|PREFEITURA MUNICI...|       UNIDADE MOVEL|          RUA DO SOL|        311|             null|           CARMO|53120010|            001|           null|                   02|                      null|        (81)34294465|        null|                null|       null|          null|           4|           1|               null|                null|              null|                null|       null|        40|                   1|              26|             260960|                          06/07/2023|  ANA KARLA|     68887302472|          6191|               null|           null|  null|         -8.0105168|       -34.8427588|                      06/07/2023|           ANA|           1244|                     N|                       null|                  N|           null|             null|        M|                                 18/06/2003|                     16|                     1|                   null|\n",
            "|2609602344637|2344637|     10404184000109|      3|        3|PREFEITURA MUNICI...|    USF ALTO DA MINA|          RUA AVENCA|         49|             null|    ALTO DA MINA|53250441|            001|           null|                   02|                      null|        (81)33051133|        null|                null|       null|          null|           4|           1|               null|                null|              null|                null|       null|         2|                   3|              26|             260960|                          01/06/2023|  ANA KARLA|      3760998445|        322481|               null|           null|  null|         -7.9944275|       -34.8534609|                      03/08/2022|           ANA|           1244|                     N|                       null|                  S|           null|             null|        M|                                 30/10/2001|                      1|                    12|                   null|\n",
            "|2609602344696|2344696|     10404184000109|      3|        3|PREFEITURA MUNICI...|USF ILHA DE SANTA...|   RUA DA INTEGRACAO|        S/N|             null|JARDIM ATLANTICO|53060001|            001|           null|                   02|                      null|        (81)34324703|        null|                null|       null|          null|           4|           1|               null|                null|              null|                null|       null|         2|                   3|              26|             260960|                          06/07/2023|  ANA KARLA|     68829736449|         91829|               null|           null|  null|         -8.0412002|        -34.879982|                      06/07/2023|           ANA|           1244|                     N|                       null|                  S|           null|             null|        M|                                 30/10/2001|                      1|                    12|                   null|\n",
            "|3112002142295|2142295|               null|      3|        1|FUNDACAO COMUNITA...|HOSPITAL CARLOS C...|AVENIDA PEDRO VIE...|        687|             null|          CENTRO|37280000|             15|           null|                 null|                      0000|      035-3833.-1285|        null|hospitalcarloscha...|       null|19343383000129|           4|           3|SRS/VS/DIV/139/2017|28-set-2017 00:00:00|               1.0|                null|       null|         5|                   6|              31|             311200|                          29/05/2023|     ISABEL|      8722114602|         63649|                  2|           null|  null|            -20.767|           -45.276|                      30/04/2019|       ADRIANA|           3069|                     S|                       null|                  S|           null|             null|        M|                                 21/03/2002|                      6|                     9|                      S|\n",
            "|3112602121506|2121506|               null|      3|        1|LABORATORIO CENTR...| LABORATORIO CENTRAL|               AV 99|        613|             null|          CENTRO|38360000|            026|           null|                 null|                      null|        (34)32631058|(34)32631058|                null|       null|18587469000134|           4|           3|          055/02/26|28-mai-2002 00:00:00|               1.0|                null|       null|        39|                   3|              31|             311260|                          04/07/2008|       DADS|            null|          null|               null|              2|  null|               null|              null|                            null|          null|           2000|                  null|                       null|               null|           null|             null|        D|                                 12/03/2002|                   null|                  null|                   null|\n",
            "|3112902759861|2759861|               null|      3|        1|LABORATORIO SANTA...|LABORATORIO SANTA...|AV MANOEL FRANCIS...|         57|             null|          CENTRO|36925000|            024|           null|                 null|                      null|        (31)38735235|        null|laboratoriostahel...|       null| 2135527000159|           4|           3|               null|                null|              null|                null|       null|        39|                   3|              31|             311290|                          20/06/2023|SMSCAPUTIRA|      8001522636|         23679|               null|           null|  null|            -20.172|           -42.271|                      17/07/2019|   SMSCAPUTIRA|           2062|                     N|                       null|                  S|           null|             null|        M|                                 12/09/2003|                     18|                     2|                   null|\n",
            "|2917702533324|2533324|     13988316000185|      3|        3|MUNICIPIO DE JAGU...|POSTO DE SAUDE DE...|  POVOADO DE ABOBORA|        S/N|           TERREO|      ZONA RURAL|48960000|             28|           null|                 null|                      null|        (07)45414196|        null|semusjaguar@bol.c...|       null|          null|           4|           1|               null|                null|              null|                null|       null|         2|                   3|              29|             291770|                          29/03/2015|  JAGUARARI|     93390300520|          3056|               null|              4|  null|               null|              null|                            null|          null|           1244|                  null|                       null|               null|           null|             null|        M|                                 25/07/2003|                   null|                  null|                   null|\n",
            "|2923604029542|4029542|     13675491000112|      3|        3|MUNICIPIO DE PARA...|UNIDADE DO PSF DE...|DISTRITO DE CANAB...|        S/N|             null|      ZONA RURAL|46190000|            023|           null|                 null|                      null|        (77)34712412|(77)34713437|smsaudeparamirim@...|       null|          null|           4|           3|               null|                null|              null|                null|       null|         2|                   3|              29|             292360|                          29/12/2021| SECRETARIA|      6891037514|        653182|               null|           null|  null|          -13.52504|         -42.17255|                      23/08/2018|    SECRETARIA|           1244|                     N|                       null|                  N|           null|             null|        M|                                 20/02/2004|                      1|                    12|                   null|\n",
            "|4218506433839|6433839|               null|      1|        1|CONSULTORIO ODONT...|CONSULTORIO ODONT...|  RUA JOSE BONIFACIO|         10|  1 ANDAR SALA 11|          CENTRO|89650000|             7�|           null|                 null|                      null|        (49)35370376|        null|jmmaranha@brturbo...|44770294972|          null|           4|           1|           333/2014|23-jun-2014 00:00:00|              null|                null|       null|        22|                   4|              42|             421850|                          13/05/2019|      MARLI|     44770294972|          null|               null|           null|  null|-26.998352707667422|-51.40650987625122|                      28/12/2018|         MARLI|           4000|                     N|                       null|                  S|           null|             null|        M|                                 16/02/2010|                     14|                    26|                   null|\n",
            "|4204502300125|2300125|               null|      3|        1|SINDICATO DOS TRA...|       STR DE CORUPA|  AVN GETULIO VARGAS|        611|             null|          CENTRO|89278000|             17|         000000|                 null|                       000|         (47)3751235|        null|                null|       null|84533322000196|           4|           1|             204/01|28-mai-2001 00:00:00|               2.0|                null|       null|        22|                   1|              42|             420450|                          03/04/2019|      JOYCE|     71632158949|          null|               null|              4|  null|               null|              null|                            null|          null|           3131|                  null|                       null|                  S|           null|             null|        M|                                 30/10/2001|                   null|                  null|                   null|\n",
            "|5300103107981|3107981|               null|      1|        1|       ROMEU ARAKAKI|       ROMEU ARAKAKI|SEPS EQ 705 905 C...|        325|             null|         ASA SUL|70390055|           null|           null|                 null|                      null|                null|        null|  acont@solar.com.br| 7169418800|          null|           4|           1|              42705|04-ago-1992 00:00:00|              null|                null|       null|        22|                   3|              53|             530010|                          11/04/2011|    ACONTEC|            null|          null|               null|              6|  null|               null|              null|                            null|          null|           4000|                  null|                       null|               null|           null|             null|        E|                                 03/07/2004|                   null|                  null|                   null|\n",
            "|4204502662922|2662922|     83102467000170|      3|        3|PREFEITURA MUNICI...|NUCLEO DE APOIO A...|     RUA VIDAL RAMOS|         82|             null|          CENTRO|89278000|             17|         000000|                 null|                      0000|          4733750770|        null|tassiaah@hotmail.com|       null|          null|           4|           2|               null|                null|               1.0|                null|       null|        71|                   3|              42|             420450|                          16/12/2022|   JOSIMARA|      6053852970|          null|               null|           null|  null|-26.434302373320378|-49.24355506896973|                      29/05/2018|        420450|           1244|                     N|                       null|                  S|           null|             null|        M|                                 17/03/2003|                      1|                    12|                      S|\n",
            "|4304605396786|5396786|               null|      1|        1|CHARLES AUGUSTO R...|CHARLES AUGUSTO R...|RUA QUINZE DE JAN...|        231|              305|          CENTRO|92010300|            001|           null|                 null|                      null|                null|        null|                null|57388423087|          null|           4|           1|             666/05|06-set-2005 00:00:00|               2.0|                null|       null|        22|                   3|              43|             430460|                          19/07/2022|    MARGANE|     57388423087|          9898|               null|           null|  null|            -29.918|           -51.184|                      20/08/2019|        GESTOR|           4000|                     N|                       null|                  N|           null|             null|        M|                                 06/10/2009|                     16|                     1|                   null|\n",
            "|2408102680041|2680041|               null|      3|        1|LABORATORIO DE AN...|LABORATORIO DE AN...|          RUA TUIUTI|        264|             null|      PETROPOLIS|59014160|              7|           null|                   03|                      null|         (84)2121838|        null|                null|       null|35295690000138|           4|           3|          0123/2023|26-jan-2023 00:00:00|               2.0|26-jan-2024 00:00:00|          1|        39|                   3|              24|             240810|                          27/04/2023|   OTACILIO|     10655026487|           911|               null|           null|  null|         -5.7870983|       -35.1933487|                      20/04/2020|        CARLOS|           2062|                     N|                       null|                  S|           null|             null|        M|                                 05/08/2003|                     18|                     2|                      S|\n",
            "|1100122495724|2495724|      4092672000125|      3|        3|PREFEITURA MUNICI...|PS SANTO ANTONIO ...|    LINHA SANTA RITA|        S/N|PROJETO RIACHUELO|      ZONA RURAL|76900020|           null|           null|                 null|                      null|        (69)99882207|        null|                null|       null|          null|           4|           1|               null|                null|              null|                null|       null|         1|                   3|              11|             110012|                          23/09/2009|  SEMUSJIPA|            null|          null|               null|              8|  null|               null|              null|                            null|          null|           1000|                  null|                       null|               null|           null|             null|        M|                                 30/01/2002|                   null|                  null|                   null|\n",
            "|3201302445107|2445107|     27150549000119|      3|        3|PREFEITURA MUNICI...|        US ALTO LAGE|    EDMILSON VAREJAO|        104|             null|       ALTO LAGE|29151050|           0001|           null|                 null|                      null| 33466557 - 33461293| 27 32361108|                null|       null|          null|           4|           1|               null|                null|              null|                null|       null|         2|                   3|              32|             320130|                          25/05/2022|     ANDREA|     78072492349|          null|               null|           null|  null|        -20.3279954|       -40.3653414|                      18/01/2021|        ANDREA|           1244|                     N|                       null|                  S|           null|             null|        M|                                 17/12/2003|                      1|                    12|                   null|\n",
            "|3201302445131|2445131|     27150549000119|      3|        3|PREFEITURA MUNICI...|       US BELA VISTA|     AVENIDA AYMORES|        447|     QD 24 LT 281|      BELA VISTA|29142353|           0001|           null|                 null|                      null|27 33881372/33265775|        null|                null|       null|          null|           4|           3|               null|                null|              null|                null|       null|         2|                   3|              32|             320130|                          16/09/2022|     ANDREA|     10060481706|          null|               null|           null|  null|            -20.264|            -40.42|                      10/02/2021|        ANDREA|           1244|                     N|                       null|                  S|           null|             null|        M|                                 17/12/2003|                      1|                    12|                   null|\n",
            "|3201302445166|2445166|     27150549000119|      3|        3|PREFEITURA MUNICI...|US JOAQUIM LOVATI...|       RUA PADRE PIO|        S/N|             null|        SANTA FE|29143740|           0001|           null|                 null|                      null|27 33466575/33466564|        null|                null|       null|          null|           4|           1|               null|                null|              null|                null|       null|         2|                   3|              32|             320130|                          26/05/2023|     ANDREA|       545443784|          null|               null|           null|  null|        -20.3466128|       -40.3859719|                      05/05/2021|        ANDREA|           1244|                     N|                       null|                  S|           null|             null|        M|                                 17/12/2003|                      1|                    12|                   null|\n",
            "|3155302108887|2108887|     18363978000183|      3|        3|PREFEITURA MUNICI...|RIO MANSO POSTO D...|          RUA BONFIM|        422|             null|           SOUZA|35485000|            002|           null|                 null|                      null|        (31)35731123|(31)35733202|saude@riomanso.mg...|       null|          null|           4|           3|               null|                null|              null|                null|       null|         2|                   3|              31|             315530|                          06/07/2023|     AMANDA|      5186948608|        240935|               null|           null|  null|            -20.265|           -44.308|                      03/05/2019|        AMANDA|           1244|                     N|                       null|                  S|           null|             null|        D|                                 25/07/2003|                      1|                    12|                   null|\n",
            "+-------------+-------+-------------------+-------+---------+--------------------+--------------------+--------------------+-----------+-----------------+----------------+--------+---------------+---------------+---------------------+--------------------------+--------------------+------------+--------------------+-----------+--------------+------------+------------+-------------------+--------------------+------------------+--------------------+-----------+----------+--------------------+----------------+-------------------+------------------------------------+-----------+----------------+--------------+-------------------+---------------+------+-------------------+------------------+--------------------------------+--------------+---------------+----------------------+---------------------------+-------------------+---------------+-----------------+---------+-------------------------------------------+-----------------------+----------------------+-----------------------+\n",
            "only showing top 20 rows\n",
            "\n"
          ]
        }
      ]
    },
    {
      "cell_type": "code",
      "source": [
        "dataset.printSchema()"
      ],
      "metadata": {
        "colab": {
          "base_uri": "https://localhost:8080/"
        },
        "id": "Rt_1j6ElNEcB",
        "outputId": "f1ba2f11-5366-490f-be95-8c373b2a316f"
      },
      "execution_count": 16,
      "outputs": [
        {
          "output_type": "stream",
          "name": "stdout",
          "text": [
            "root\n",
            " |-- CO_UNIDADE: string (nullable = true)\n",
            " |-- CO_CNES: integer (nullable = true)\n",
            " |-- NU_CNPJ_MANTENEDORA: long (nullable = true)\n",
            " |-- TP_PFPJ: integer (nullable = true)\n",
            " |-- NIVEL_DEP: integer (nullable = true)\n",
            " |-- NO_RAZAO_SOCIAL: string (nullable = true)\n",
            " |-- NO_FANTASIA: string (nullable = true)\n",
            " |-- NO_LOGRADOURO: string (nullable = true)\n",
            " |-- NU_ENDERECO: string (nullable = true)\n",
            " |-- NO_COMPLEMENTO: string (nullable = true)\n",
            " |-- NO_BAIRRO: string (nullable = true)\n",
            " |-- CO_CEP: integer (nullable = true)\n",
            " |-- CO_REGIAO_SAUDE: string (nullable = true)\n",
            " |-- CO_MICRO_REGIAO: string (nullable = true)\n",
            " |-- CO_DISTRITO_SANITARIO: string (nullable = true)\n",
            " |-- CO_DISTRITO_ADMINISTRATIVO: string (nullable = true)\n",
            " |-- NU_TELEFONE: string (nullable = true)\n",
            " |-- NU_FAX: string (nullable = true)\n",
            " |-- NO_EMAIL: string (nullable = true)\n",
            " |-- NU_CPF: long (nullable = true)\n",
            " |-- NU_CNPJ: long (nullable = true)\n",
            " |-- CO_ATIVIDADE: integer (nullable = true)\n",
            " |-- CO_CLIENTELA: long (nullable = true)\n",
            " |-- NU_ALVARA: string (nullable = true)\n",
            " |-- DT_EXPEDICAO: string (nullable = true)\n",
            " |-- TP_ORGAO_EXPEDIDOR: double (nullable = true)\n",
            " |-- DT_VAL_LIC_SANI: string (nullable = true)\n",
            " |-- TP_LIC_SANI: integer (nullable = true)\n",
            " |-- TP_UNIDADE: integer (nullable = true)\n",
            " |-- CO_TURNO_ATENDIMENTO: integer (nullable = true)\n",
            " |-- CO_ESTADO_GESTOR: integer (nullable = true)\n",
            " |-- CO_MUNICIPIO_GESTOR: string (nullable = true)\n",
            " |-- TO_CHAR(DT_ATUALIZACAO,'DD/MM/YYYY'): string (nullable = true)\n",
            " |-- CO_USUARIO: string (nullable = true)\n",
            " |-- CO_CPFDIRETORCLN: long (nullable = true)\n",
            " |-- REG_DIRETORCLN: string (nullable = true)\n",
            " |-- ST_ADESAO_FILANTROP: string (nullable = true)\n",
            " |-- CO_MOTIVO_DESAB: integer (nullable = true)\n",
            " |-- NO_URL: string (nullable = true)\n",
            " |-- NU_LATITUDE: string (nullable = true)\n",
            " |-- NU_LONGITUDE: string (nullable = true)\n",
            " |-- TO_CHAR(DT_ATU_GEO,'DD/MM/YYYY'): string (nullable = true)\n",
            " |-- NO_USUARIO_GEO: string (nullable = true)\n",
            " |-- CO_NATUREZA_JUR: string (nullable = true)\n",
            " |-- TP_ESTAB_SEMPRE_ABERTO: string (nullable = true)\n",
            " |-- ST_GERACREDITO_GERENTE_SGIF: string (nullable = true)\n",
            " |-- ST_CONEXAO_INTERNET: string (nullable = true)\n",
            " |-- CO_TIPO_UNIDADE: string (nullable = true)\n",
            " |-- NO_FANTASIA_ABREV: string (nullable = true)\n",
            " |-- TP_GESTAO: string (nullable = true)\n",
            " |-- TO_CHAR(DT_ATUALIZACAO_ORIGEM,'DD/MM/YYYY'): string (nullable = true)\n",
            " |-- CO_TIPO_ESTABELECIMENTO: integer (nullable = true)\n",
            " |-- CO_ATIVIDADE_PRINCIPAL: integer (nullable = true)\n",
            " |-- ST_CONTRATO_FORMALIZADO: string (nullable = true)\n",
            "\n"
          ]
        }
      ]
    },
    {
      "cell_type": "code",
      "source": [
        "type(dataset)"
      ],
      "metadata": {
        "colab": {
          "base_uri": "https://localhost:8080/"
        },
        "id": "S_S9pqCNNEfK",
        "outputId": "9fa3fbe9-7177-465f-eac4-9005f3eb6a22"
      },
      "execution_count": 17,
      "outputs": [
        {
          "output_type": "execute_result",
          "data": {
            "text/plain": [
              "pyspark.sql.dataframe.DataFrame"
            ]
          },
          "metadata": {},
          "execution_count": 17
        }
      ]
    },
    {
      "cell_type": "code",
      "source": [
        "## Selecting the columns/indexes\n",
        "\n",
        "dataset.columns"
      ],
      "metadata": {
        "colab": {
          "base_uri": "https://localhost:8080/"
        },
        "id": "K5wnilAQOlTe",
        "outputId": "4824eb12-5f25-47fd-e2ca-52b4b4fd6ea9"
      },
      "execution_count": 18,
      "outputs": [
        {
          "output_type": "execute_result",
          "data": {
            "text/plain": [
              "['CO_UNIDADE',\n",
              " 'CO_CNES',\n",
              " 'NU_CNPJ_MANTENEDORA',\n",
              " 'TP_PFPJ',\n",
              " 'NIVEL_DEP',\n",
              " 'NO_RAZAO_SOCIAL',\n",
              " 'NO_FANTASIA',\n",
              " 'NO_LOGRADOURO',\n",
              " 'NU_ENDERECO',\n",
              " 'NO_COMPLEMENTO',\n",
              " 'NO_BAIRRO',\n",
              " 'CO_CEP',\n",
              " 'CO_REGIAO_SAUDE',\n",
              " 'CO_MICRO_REGIAO',\n",
              " 'CO_DISTRITO_SANITARIO',\n",
              " 'CO_DISTRITO_ADMINISTRATIVO',\n",
              " 'NU_TELEFONE',\n",
              " 'NU_FAX',\n",
              " 'NO_EMAIL',\n",
              " 'NU_CPF',\n",
              " 'NU_CNPJ',\n",
              " 'CO_ATIVIDADE',\n",
              " 'CO_CLIENTELA',\n",
              " 'NU_ALVARA',\n",
              " 'DT_EXPEDICAO',\n",
              " 'TP_ORGAO_EXPEDIDOR',\n",
              " 'DT_VAL_LIC_SANI',\n",
              " 'TP_LIC_SANI',\n",
              " 'TP_UNIDADE',\n",
              " 'CO_TURNO_ATENDIMENTO',\n",
              " 'CO_ESTADO_GESTOR',\n",
              " 'CO_MUNICIPIO_GESTOR',\n",
              " \"TO_CHAR(DT_ATUALIZACAO,'DD/MM/YYYY')\",\n",
              " 'CO_USUARIO',\n",
              " 'CO_CPFDIRETORCLN',\n",
              " 'REG_DIRETORCLN',\n",
              " 'ST_ADESAO_FILANTROP',\n",
              " 'CO_MOTIVO_DESAB',\n",
              " 'NO_URL',\n",
              " 'NU_LATITUDE',\n",
              " 'NU_LONGITUDE',\n",
              " \"TO_CHAR(DT_ATU_GEO,'DD/MM/YYYY')\",\n",
              " 'NO_USUARIO_GEO',\n",
              " 'CO_NATUREZA_JUR',\n",
              " 'TP_ESTAB_SEMPRE_ABERTO',\n",
              " 'ST_GERACREDITO_GERENTE_SGIF',\n",
              " 'ST_CONEXAO_INTERNET',\n",
              " 'CO_TIPO_UNIDADE',\n",
              " 'NO_FANTASIA_ABREV',\n",
              " 'TP_GESTAO',\n",
              " \"TO_CHAR(DT_ATUALIZACAO_ORIGEM,'DD/MM/YYYY')\",\n",
              " 'CO_TIPO_ESTABELECIMENTO',\n",
              " 'CO_ATIVIDADE_PRINCIPAL',\n",
              " 'ST_CONTRATO_FORMALIZADO']"
            ]
          },
          "metadata": {},
          "execution_count": 18
        }
      ]
    },
    {
      "cell_type": "code",
      "source": [
        "dataset.head(2)"
      ],
      "metadata": {
        "colab": {
          "base_uri": "https://localhost:8080/"
        },
        "id": "35vYJtVGOlXT",
        "outputId": "ea81b001-a39d-42d3-fb36-11fdb84f3f7b"
      },
      "execution_count": 20,
      "outputs": [
        {
          "output_type": "execute_result",
          "data": {
            "text/plain": [
              "[Row(CO_UNIDADE='2609602569302', CO_CNES=2569302, NU_CNPJ_MANTENEDORA=10404184000109, TP_PFPJ=3, NIVEL_DEP=3, NO_RAZAO_SOCIAL='PREFEITURA MUNICIPAL DE OLINDA', NO_FANTASIA='USF BULTRINS MONTE II', NO_LOGRADOURO='RUA PREFEITO MANOEL REGUEIRA', NU_ENDERECO='540', NO_COMPLEMENTO=None, NO_BAIRRO='BULTRINS', CO_CEP=53320460, CO_REGIAO_SAUDE='001', CO_MICRO_REGIAO=None, CO_DISTRITO_SANITARIO='02', CO_DISTRITO_ADMINISTRATIVO=None, NU_TELEFONE='(81)34930626', NU_FAX=None, NO_EMAIL=None, NU_CPF=None, NU_CNPJ=None, CO_ATIVIDADE=4, CO_CLIENTELA=2, NU_ALVARA=None, DT_EXPEDICAO=None, TP_ORGAO_EXPEDIDOR=None, DT_VAL_LIC_SANI=None, TP_LIC_SANI=None, TP_UNIDADE=2, CO_TURNO_ATENDIMENTO=3, CO_ESTADO_GESTOR=26, CO_MUNICIPIO_GESTOR='260960', TO_CHAR(DT_ATUALIZACAO,'DD/MM/YYYY')='28/11/2017', CO_USUARIO='ANA KARLA', CO_CPFDIRETORCLN=10258000449, REG_DIRETORCLN='157002', ST_ADESAO_FILANTROP=None, CO_MOTIVO_DESAB=4, NO_URL=None, NU_LATITUDE=None, NU_LONGITUDE=None, TO_CHAR(DT_ATU_GEO,'DD/MM/YYYY')=None, NO_USUARIO_GEO=None, CO_NATUREZA_JUR='1244', TP_ESTAB_SEMPRE_ABERTO='N', ST_GERACREDITO_GERENTE_SGIF=None, ST_CONEXAO_INTERNET='S', CO_TIPO_UNIDADE=None, NO_FANTASIA_ABREV=None, TP_GESTAO='M', TO_CHAR(DT_ATUALIZACAO_ORIGEM,'DD/MM/YYYY')='18/06/2003', CO_TIPO_ESTABELECIMENTO=None, CO_ATIVIDADE_PRINCIPAL=None, ST_CONTRATO_FORMALIZADO=None),\n",
              " Row(CO_UNIDADE='2609602571943', CO_CNES=2571943, NU_CNPJ_MANTENEDORA=10404184000109, TP_PFPJ=3, NIVEL_DEP=3, NO_RAZAO_SOCIAL='PREFEITURA MUNICIPAL DE OLINDA', NO_FANTASIA='UNIDADE MOVEL', NO_LOGRADOURO='RUA DO SOL', NU_ENDERECO='311', NO_COMPLEMENTO=None, NO_BAIRRO='CARMO', CO_CEP=53120010, CO_REGIAO_SAUDE='001', CO_MICRO_REGIAO=None, CO_DISTRITO_SANITARIO='02', CO_DISTRITO_ADMINISTRATIVO=None, NU_TELEFONE='(81)34294465', NU_FAX=None, NO_EMAIL=None, NU_CPF=None, NU_CNPJ=None, CO_ATIVIDADE=4, CO_CLIENTELA=1, NU_ALVARA=None, DT_EXPEDICAO=None, TP_ORGAO_EXPEDIDOR=None, DT_VAL_LIC_SANI=None, TP_LIC_SANI=None, TP_UNIDADE=40, CO_TURNO_ATENDIMENTO=1, CO_ESTADO_GESTOR=26, CO_MUNICIPIO_GESTOR='260960', TO_CHAR(DT_ATUALIZACAO,'DD/MM/YYYY')='06/07/2023', CO_USUARIO='ANA KARLA', CO_CPFDIRETORCLN=68887302472, REG_DIRETORCLN='6191', ST_ADESAO_FILANTROP=None, CO_MOTIVO_DESAB=None, NO_URL=None, NU_LATITUDE='-8.0105168', NU_LONGITUDE='-34.8427588', TO_CHAR(DT_ATU_GEO,'DD/MM/YYYY')='06/07/2023', NO_USUARIO_GEO='ANA', CO_NATUREZA_JUR='1244', TP_ESTAB_SEMPRE_ABERTO='N', ST_GERACREDITO_GERENTE_SGIF=None, ST_CONEXAO_INTERNET='N', CO_TIPO_UNIDADE=None, NO_FANTASIA_ABREV=None, TP_GESTAO='M', TO_CHAR(DT_ATUALIZACAO_ORIGEM,'DD/MM/YYYY')='18/06/2003', CO_TIPO_ESTABELECIMENTO=16, CO_ATIVIDADE_PRINCIPAL=1, ST_CONTRATO_FORMALIZADO=None)]"
            ]
          },
          "metadata": {},
          "execution_count": 20
        }
      ]
    },
    {
      "cell_type": "code",
      "source": [
        "## Select a column\n",
        "\n",
        "dataset.select(\"CO_UNIDADE\")"
      ],
      "metadata": {
        "colab": {
          "base_uri": "https://localhost:8080/"
        },
        "id": "_ZqhHMeZOlac",
        "outputId": "e6ad9abb-be31-4f27-d901-d8551fe90e3e"
      },
      "execution_count": 22,
      "outputs": [
        {
          "output_type": "execute_result",
          "data": {
            "text/plain": [
              "DataFrame[CO_UNIDADE: string]"
            ]
          },
          "metadata": {},
          "execution_count": 22
        }
      ]
    },
    {
      "cell_type": "code",
      "source": [
        "## Select a column\n",
        "\n",
        "dataset.select(\"CO_UNIDADE\").show()"
      ],
      "metadata": {
        "colab": {
          "base_uri": "https://localhost:8080/"
        },
        "id": "80qxZTpsNEio",
        "outputId": "615dfc21-8ced-454c-958f-da9715e2b7f4"
      },
      "execution_count": 23,
      "outputs": [
        {
          "output_type": "stream",
          "name": "stdout",
          "text": [
            "+-------------+\n",
            "|   CO_UNIDADE|\n",
            "+-------------+\n",
            "|2609602569302|\n",
            "|2609602571943|\n",
            "|2609602344637|\n",
            "|2609602344696|\n",
            "|3112002142295|\n",
            "|3112602121506|\n",
            "|3112902759861|\n",
            "|2917702533324|\n",
            "|2923604029542|\n",
            "|4218506433839|\n",
            "|4204502300125|\n",
            "|5300103107981|\n",
            "|4204502662922|\n",
            "|4304605396786|\n",
            "|2408102680041|\n",
            "|1100122495724|\n",
            "|3201302445107|\n",
            "|3201302445131|\n",
            "|3201302445166|\n",
            "|3155302108887|\n",
            "+-------------+\n",
            "only showing top 20 rows\n",
            "\n"
          ]
        }
      ]
    },
    {
      "cell_type": "code",
      "source": [
        "# podemos selecionar mais de uma coluna\n",
        "\n",
        "dataset.select(['CO_UNIDADE', 'CO_CEP']).show(10)"
      ],
      "metadata": {
        "colab": {
          "base_uri": "https://localhost:8080/"
        },
        "id": "WUWaCrRKMtON",
        "outputId": "d0689c90-0931-494f-c57e-d15b0c306a5f"
      },
      "execution_count": 25,
      "outputs": [
        {
          "output_type": "stream",
          "name": "stdout",
          "text": [
            "+-------------+--------+\n",
            "|   CO_UNIDADE|  CO_CEP|\n",
            "+-------------+--------+\n",
            "|2609602569302|53320460|\n",
            "|2609602571943|53120010|\n",
            "|2609602344637|53250441|\n",
            "|2609602344696|53060001|\n",
            "|3112002142295|37280000|\n",
            "|3112602121506|38360000|\n",
            "|3112902759861|36925000|\n",
            "|2917702533324|48960000|\n",
            "|2923604029542|46190000|\n",
            "|4218506433839|89650000|\n",
            "+-------------+--------+\n",
            "only showing top 10 rows\n",
            "\n"
          ]
        }
      ]
    },
    {
      "cell_type": "code",
      "source": [
        "# confirmando o tipo do dado\n",
        "\n",
        "dataset.dtypes"
      ],
      "metadata": {
        "colab": {
          "base_uri": "https://localhost:8080/"
        },
        "id": "7zmZJ_7AMtS6",
        "outputId": "e110d497-e658-43cf-c8c9-cd7d564eaafc"
      },
      "execution_count": 26,
      "outputs": [
        {
          "output_type": "execute_result",
          "data": {
            "text/plain": [
              "[('CO_UNIDADE', 'string'),\n",
              " ('CO_CNES', 'int'),\n",
              " ('NU_CNPJ_MANTENEDORA', 'bigint'),\n",
              " ('TP_PFPJ', 'int'),\n",
              " ('NIVEL_DEP', 'int'),\n",
              " ('NO_RAZAO_SOCIAL', 'string'),\n",
              " ('NO_FANTASIA', 'string'),\n",
              " ('NO_LOGRADOURO', 'string'),\n",
              " ('NU_ENDERECO', 'string'),\n",
              " ('NO_COMPLEMENTO', 'string'),\n",
              " ('NO_BAIRRO', 'string'),\n",
              " ('CO_CEP', 'int'),\n",
              " ('CO_REGIAO_SAUDE', 'string'),\n",
              " ('CO_MICRO_REGIAO', 'string'),\n",
              " ('CO_DISTRITO_SANITARIO', 'string'),\n",
              " ('CO_DISTRITO_ADMINISTRATIVO', 'string'),\n",
              " ('NU_TELEFONE', 'string'),\n",
              " ('NU_FAX', 'string'),\n",
              " ('NO_EMAIL', 'string'),\n",
              " ('NU_CPF', 'bigint'),\n",
              " ('NU_CNPJ', 'bigint'),\n",
              " ('CO_ATIVIDADE', 'int'),\n",
              " ('CO_CLIENTELA', 'bigint'),\n",
              " ('NU_ALVARA', 'string'),\n",
              " ('DT_EXPEDICAO', 'string'),\n",
              " ('TP_ORGAO_EXPEDIDOR', 'double'),\n",
              " ('DT_VAL_LIC_SANI', 'string'),\n",
              " ('TP_LIC_SANI', 'int'),\n",
              " ('TP_UNIDADE', 'int'),\n",
              " ('CO_TURNO_ATENDIMENTO', 'int'),\n",
              " ('CO_ESTADO_GESTOR', 'int'),\n",
              " ('CO_MUNICIPIO_GESTOR', 'string'),\n",
              " (\"TO_CHAR(DT_ATUALIZACAO,'DD/MM/YYYY')\", 'string'),\n",
              " ('CO_USUARIO', 'string'),\n",
              " ('CO_CPFDIRETORCLN', 'bigint'),\n",
              " ('REG_DIRETORCLN', 'string'),\n",
              " ('ST_ADESAO_FILANTROP', 'string'),\n",
              " ('CO_MOTIVO_DESAB', 'int'),\n",
              " ('NO_URL', 'string'),\n",
              " ('NU_LATITUDE', 'string'),\n",
              " ('NU_LONGITUDE', 'string'),\n",
              " (\"TO_CHAR(DT_ATU_GEO,'DD/MM/YYYY')\", 'string'),\n",
              " ('NO_USUARIO_GEO', 'string'),\n",
              " ('CO_NATUREZA_JUR', 'string'),\n",
              " ('TP_ESTAB_SEMPRE_ABERTO', 'string'),\n",
              " ('ST_GERACREDITO_GERENTE_SGIF', 'string'),\n",
              " ('ST_CONEXAO_INTERNET', 'string'),\n",
              " ('CO_TIPO_UNIDADE', 'string'),\n",
              " ('NO_FANTASIA_ABREV', 'string'),\n",
              " ('TP_GESTAO', 'string'),\n",
              " (\"TO_CHAR(DT_ATUALIZACAO_ORIGEM,'DD/MM/YYYY')\", 'string'),\n",
              " ('CO_TIPO_ESTABELECIMENTO', 'int'),\n",
              " ('CO_ATIVIDADE_PRINCIPAL', 'int'),\n",
              " ('ST_CONTRATO_FORMALIZADO', 'string')]"
            ]
          },
          "metadata": {},
          "execution_count": 26
        }
      ]
    },
    {
      "cell_type": "code",
      "source": [
        "## Descrevendo o dataframe.DataFrame no pyspark\n",
        "\n",
        "dataset.describe().show()"
      ],
      "metadata": {
        "colab": {
          "base_uri": "https://localhost:8080/"
        },
        "id": "5MCJQdigMtWq",
        "outputId": "6081790a-c126-405c-c410-bc26640c5cea"
      },
      "execution_count": 28,
      "outputs": [
        {
          "output_type": "stream",
          "name": "stdout",
          "text": [
            "+-------+--------------------+------------------+--------------------+-----------------+------------------+--------------------+--------------------+--------------------+--------------------+--------------------+--------------------+--------------------+-----------------+-----------------+---------------------+--------------------------+--------------------+--------------------+--------------------+--------------------+--------------------+------------------+-------------------+--------------------+--------------------+-------------------+--------------------+------------------+------------------+--------------------+-----------------+-------------------+------------------------------------+----------+--------------------+--------------------+-------------------+------------------+--------------------+------------------+-------------------+--------------------------------+--------------+------------------+----------------------+---------------------------+-------------------+---------------+-----------------+----------+-------------------------------------------+-----------------------+----------------------+-----------------------+\n",
            "|summary|          CO_UNIDADE|           CO_CNES| NU_CNPJ_MANTENEDORA|          TP_PFPJ|         NIVEL_DEP|     NO_RAZAO_SOCIAL|         NO_FANTASIA|       NO_LOGRADOURO|         NU_ENDERECO|      NO_COMPLEMENTO|           NO_BAIRRO|              CO_CEP|  CO_REGIAO_SAUDE|  CO_MICRO_REGIAO|CO_DISTRITO_SANITARIO|CO_DISTRITO_ADMINISTRATIVO|         NU_TELEFONE|              NU_FAX|            NO_EMAIL|              NU_CPF|             NU_CNPJ|      CO_ATIVIDADE|       CO_CLIENTELA|           NU_ALVARA|        DT_EXPEDICAO| TP_ORGAO_EXPEDIDOR|     DT_VAL_LIC_SANI|       TP_LIC_SANI|        TP_UNIDADE|CO_TURNO_ATENDIMENTO| CO_ESTADO_GESTOR|CO_MUNICIPIO_GESTOR|TO_CHAR(DT_ATUALIZACAO,'DD/MM/YYYY')|CO_USUARIO|    CO_CPFDIRETORCLN|      REG_DIRETORCLN|ST_ADESAO_FILANTROP|   CO_MOTIVO_DESAB|              NO_URL|       NU_LATITUDE|       NU_LONGITUDE|TO_CHAR(DT_ATU_GEO,'DD/MM/YYYY')|NO_USUARIO_GEO|   CO_NATUREZA_JUR|TP_ESTAB_SEMPRE_ABERTO|ST_GERACREDITO_GERENTE_SGIF|ST_CONEXAO_INTERNET|CO_TIPO_UNIDADE|NO_FANTASIA_ABREV| TP_GESTAO|TO_CHAR(DT_ATUALIZACAO_ORIGEM,'DD/MM/YYYY')|CO_TIPO_ESTABELECIMENTO|CO_ATIVIDADE_PRINCIPAL|ST_CONTRATO_FORMALIZADO|\n",
            "+-------+--------------------+------------------+--------------------+-----------------+------------------+--------------------+--------------------+--------------------+--------------------+--------------------+--------------------+--------------------+-----------------+-----------------+---------------------+--------------------------+--------------------+--------------------+--------------------+--------------------+--------------------+------------------+-------------------+--------------------+--------------------+-------------------+--------------------+------------------+------------------+--------------------+-----------------+-------------------+------------------------------------+----------+--------------------+--------------------+-------------------+------------------+--------------------+------------------+-------------------+--------------------------------+--------------+------------------+----------------------+---------------------------+-------------------+---------------+-----------------+----------+-------------------------------------------+-----------------------+----------------------+-----------------------+\n",
            "|  count|              257813|            257813|               55257|           257813|            257813|              257812|              257776|              257813|              257679|              121290|              257813|              257813|           116166|             9227|                24109|                      2538|              199385|               40731|              133289|               80086|              123797|            257813|             254317|              176661|              176749|             179304|               99763|             99965|            257813|              257076|           257813|             257813|                              257813|    257812|              234732|              148463|               1250|             51349|                4755|            225321|             225353|                          205556|        205234|            257809|                233189|                         31|             239311|              0|                2|    257813|                                     257813|                 235459|                235457|                  91569|\n",
            "|   mean|3.446905844136703...| 5412494.161341747|2.721086978044212E13|2.378696962527103|1.4286672898573773|           4156299.5| 1.98535280000131E14|4.045846262235294E11|   49170.36128960878|6.681646061680692E14|4.6618939161290325E7|4.8876456616792016E7|94.32764470510854| 9728.81187962626|   110.29412769147473|        32.439234839234835|2.627998781664899E15| 7.121719453537965E9|1.1732374318695652E9|3.169019588121502E10|2.427592385824405E13| 3.980935794548762|  789971.2799655548|            Infinity|                 1.5| 1.9181557578191228|                null|1.0947331566048117|26.790072649556073|  3.2151231542423253|36.55800522083836| 344676.96518767625|                                null|  Infinity|2.995311112695919...|7.954177573833688E22| 1.6868884540117417|7.0470116263218365|3.482500612589192E12|-19.18177105564078|-46.627744475774016|                            null|      Infinity|2537.3318244585116|                  null|                       null|               null|           null|             null|      null|                                       16.0|     13.826946517228052|      4.00403895403407|                   null|\n",
            "| stddev|8.788783574135353E11|2989101.5100432555|2.749572329239517E13|0.925522518961429|0.8207201392654873|   5115731.592801219|                null|6.241627614677057E12|2.1043066262295123E7|4.853744805347318...|1.7254820946444836E8|2.9726890493491147E7|367.3652545382441|54213.60333652245|    955.5046087443079|        236.51086757175574|3.857019408578299...|1.459749824696589...| 5.290500993926475E9|2.906881071312524E10|1.993473844511906...|0.1912441457074443|3.983802687586803E8|                 NaN|  0.7071067811865476|0.27420940631973645|                null|0.3191636596301498| 16.36189087896715|  0.8323191722626279|833.5455958956941|  87895.95616419827|                                null|       NaN|3.024885291952324E10|2.692049066933747...| 0.5063788066956173|2.3011410929775824|1.155011942797033...|  7.50483952104146| 5.6654221767195185|                            null|           NaN|1078.0073998781872|                  null|                       null|               null|           null|             null|      null|                                        0.0|      5.325968492106434|      5.53737362122173|                   null|\n",
            "|    min|       1100010986623|               108|           729000168|                1|                 1|021 DENTAL BANGU ...|001 ATUALIZA EXAM...|      00 FL 28 LT 19|                   0|                   0|                   0|             1001000|                (|                ,|                   --|                      (18)|                   (|                   (|      (049)3664-1284|                6556|                   4|                 1|                  1|\"232/2010\";\"24-se...|01-abr-1976 00:00:00|                1.0|01-abr-2005 00:00:00|                 1|                 1|                   1|               11|         03/09/2019|                          01/01/2000|     00001|                6556|              '73432|                   |                 1|           -3.730069|            -0,987|         -047.91331|                      01/01/2018|         +LTON|              1000|                     N|                          N|                  N|           null|                M|12/03/2002|                                 01/01/2004|                      0|                     0|                      N|\n",
            "|    max|SP000035228020000...|           9999965|      98671597000109|                3|                 3|ZYON MEDHUB COWOR...|ZYLTON GONDIM FIG...|               ZUMBI|                 S/N|  ZUMBI DOS PALMARES|        ZUZA HOLANDA|            99990000|                ||              nao|                  sim|                         s|     {84} 3232 -2634|                   ||�longlifediretori...|         99996880710|      98660301000146|                 5|       200902581011|         �29519/2022|31-out-2023 00:00:00|                3.0|31-out-2099 00:00:00|                36|                85|                  35|           355030|             530180|                          LIZZANGELA|     �LTON|         99999528015|              �77088|                  2|                14|                   ||         4.7220212|          undefined|                      LIZZANGELA|         _NURE|                 N|                     S|                          S|                  S|           null|                M|         S|                                 31/12/2022|                     25|                    27|                      S|\n",
            "+-------+--------------------+------------------+--------------------+-----------------+------------------+--------------------+--------------------+--------------------+--------------------+--------------------+--------------------+--------------------+-----------------+-----------------+---------------------+--------------------------+--------------------+--------------------+--------------------+--------------------+--------------------+------------------+-------------------+--------------------+--------------------+-------------------+--------------------+------------------+------------------+--------------------+-----------------+-------------------+------------------------------------+----------+--------------------+--------------------+-------------------+------------------+--------------------+------------------+-------------------+--------------------------------+--------------+------------------+----------------------+---------------------------+-------------------+---------------+-----------------+----------+-------------------------------------------+-----------------------+----------------------+-----------------------+\n",
            "\n"
          ]
        }
      ]
    },
    {
      "cell_type": "code",
      "source": [
        "## Adding Columns in dataframe\n",
        "\n",
        "dataset.withColumn('Experience After 2 Year', dataset['CO_UNIDADE']*2).show()"
      ],
      "metadata": {
        "colab": {
          "base_uri": "https://localhost:8080/"
        },
        "id": "2BXxPj2oRmQq",
        "outputId": "5e6e90ed-62d1-4eb1-eee8-21c6f45dcd7b"
      },
      "execution_count": 29,
      "outputs": [
        {
          "output_type": "stream",
          "name": "stdout",
          "text": [
            "+-------------+-------+-------------------+-------+---------+--------------------+--------------------+--------------------+-----------+-----------------+----------------+--------+---------------+---------------+---------------------+--------------------------+--------------------+------------+--------------------+-----------+--------------+------------+------------+-------------------+--------------------+------------------+--------------------+-----------+----------+--------------------+----------------+-------------------+------------------------------------+-----------+----------------+--------------+-------------------+---------------+------+-------------------+------------------+--------------------------------+--------------+---------------+----------------------+---------------------------+-------------------+---------------+-----------------+---------+-------------------------------------------+-----------------------+----------------------+-----------------------+-----------------------+\n",
            "|   CO_UNIDADE|CO_CNES|NU_CNPJ_MANTENEDORA|TP_PFPJ|NIVEL_DEP|     NO_RAZAO_SOCIAL|         NO_FANTASIA|       NO_LOGRADOURO|NU_ENDERECO|   NO_COMPLEMENTO|       NO_BAIRRO|  CO_CEP|CO_REGIAO_SAUDE|CO_MICRO_REGIAO|CO_DISTRITO_SANITARIO|CO_DISTRITO_ADMINISTRATIVO|         NU_TELEFONE|      NU_FAX|            NO_EMAIL|     NU_CPF|       NU_CNPJ|CO_ATIVIDADE|CO_CLIENTELA|          NU_ALVARA|        DT_EXPEDICAO|TP_ORGAO_EXPEDIDOR|     DT_VAL_LIC_SANI|TP_LIC_SANI|TP_UNIDADE|CO_TURNO_ATENDIMENTO|CO_ESTADO_GESTOR|CO_MUNICIPIO_GESTOR|TO_CHAR(DT_ATUALIZACAO,'DD/MM/YYYY')| CO_USUARIO|CO_CPFDIRETORCLN|REG_DIRETORCLN|ST_ADESAO_FILANTROP|CO_MOTIVO_DESAB|NO_URL|        NU_LATITUDE|      NU_LONGITUDE|TO_CHAR(DT_ATU_GEO,'DD/MM/YYYY')|NO_USUARIO_GEO|CO_NATUREZA_JUR|TP_ESTAB_SEMPRE_ABERTO|ST_GERACREDITO_GERENTE_SGIF|ST_CONEXAO_INTERNET|CO_TIPO_UNIDADE|NO_FANTASIA_ABREV|TP_GESTAO|TO_CHAR(DT_ATUALIZACAO_ORIGEM,'DD/MM/YYYY')|CO_TIPO_ESTABELECIMENTO|CO_ATIVIDADE_PRINCIPAL|ST_CONTRATO_FORMALIZADO|Experience After 2 Year|\n",
            "+-------------+-------+-------------------+-------+---------+--------------------+--------------------+--------------------+-----------+-----------------+----------------+--------+---------------+---------------+---------------------+--------------------------+--------------------+------------+--------------------+-----------+--------------+------------+------------+-------------------+--------------------+------------------+--------------------+-----------+----------+--------------------+----------------+-------------------+------------------------------------+-----------+----------------+--------------+-------------------+---------------+------+-------------------+------------------+--------------------------------+--------------+---------------+----------------------+---------------------------+-------------------+---------------+-----------------+---------+-------------------------------------------+-----------------------+----------------------+-----------------------+-----------------------+\n",
            "|2609602569302|2569302|     10404184000109|      3|        3|PREFEITURA MUNICI...|USF BULTRINS MONT...|RUA PREFEITO MANO...|        540|             null|        BULTRINS|53320460|            001|           null|                   02|                      null|        (81)34930626|        null|                null|       null|          null|           4|           2|               null|                null|              null|                null|       null|         2|                   3|              26|             260960|                          28/11/2017|  ANA KARLA|     10258000449|        157002|               null|              4|  null|               null|              null|                            null|          null|           1244|                     N|                       null|                  S|           null|             null|        M|                                 18/06/2003|                   null|                  null|                   null|      5.219205138604E12|\n",
            "|2609602571943|2571943|     10404184000109|      3|        3|PREFEITURA MUNICI...|       UNIDADE MOVEL|          RUA DO SOL|        311|             null|           CARMO|53120010|            001|           null|                   02|                      null|        (81)34294465|        null|                null|       null|          null|           4|           1|               null|                null|              null|                null|       null|        40|                   1|              26|             260960|                          06/07/2023|  ANA KARLA|     68887302472|          6191|               null|           null|  null|         -8.0105168|       -34.8427588|                      06/07/2023|           ANA|           1244|                     N|                       null|                  N|           null|             null|        M|                                 18/06/2003|                     16|                     1|                   null|      5.219205143886E12|\n",
            "|2609602344637|2344637|     10404184000109|      3|        3|PREFEITURA MUNICI...|    USF ALTO DA MINA|          RUA AVENCA|         49|             null|    ALTO DA MINA|53250441|            001|           null|                   02|                      null|        (81)33051133|        null|                null|       null|          null|           4|           1|               null|                null|              null|                null|       null|         2|                   3|              26|             260960|                          01/06/2023|  ANA KARLA|      3760998445|        322481|               null|           null|  null|         -7.9944275|       -34.8534609|                      03/08/2022|           ANA|           1244|                     N|                       null|                  S|           null|             null|        M|                                 30/10/2001|                      1|                    12|                   null|      5.219204689274E12|\n",
            "|2609602344696|2344696|     10404184000109|      3|        3|PREFEITURA MUNICI...|USF ILHA DE SANTA...|   RUA DA INTEGRACAO|        S/N|             null|JARDIM ATLANTICO|53060001|            001|           null|                   02|                      null|        (81)34324703|        null|                null|       null|          null|           4|           1|               null|                null|              null|                null|       null|         2|                   3|              26|             260960|                          06/07/2023|  ANA KARLA|     68829736449|         91829|               null|           null|  null|         -8.0412002|        -34.879982|                      06/07/2023|           ANA|           1244|                     N|                       null|                  S|           null|             null|        M|                                 30/10/2001|                      1|                    12|                   null|      5.219204689392E12|\n",
            "|3112002142295|2142295|               null|      3|        1|FUNDACAO COMUNITA...|HOSPITAL CARLOS C...|AVENIDA PEDRO VIE...|        687|             null|          CENTRO|37280000|             15|           null|                 null|                      0000|      035-3833.-1285|        null|hospitalcarloscha...|       null|19343383000129|           4|           3|SRS/VS/DIV/139/2017|28-set-2017 00:00:00|               1.0|                null|       null|         5|                   6|              31|             311200|                          29/05/2023|     ISABEL|      8722114602|         63649|                  2|           null|  null|            -20.767|           -45.276|                      30/04/2019|       ADRIANA|           3069|                     S|                       null|                  S|           null|             null|        M|                                 21/03/2002|                      6|                     9|                      S|       6.22400428459E12|\n",
            "|3112602121506|2121506|               null|      3|        1|LABORATORIO CENTR...| LABORATORIO CENTRAL|               AV 99|        613|             null|          CENTRO|38360000|            026|           null|                 null|                      null|        (34)32631058|(34)32631058|                null|       null|18587469000134|           4|           3|          055/02/26|28-mai-2002 00:00:00|               1.0|                null|       null|        39|                   3|              31|             311260|                          04/07/2008|       DADS|            null|          null|               null|              2|  null|               null|              null|                            null|          null|           2000|                  null|                       null|               null|           null|             null|        D|                                 12/03/2002|                   null|                  null|                   null|      6.225204243012E12|\n",
            "|3112902759861|2759861|               null|      3|        1|LABORATORIO SANTA...|LABORATORIO SANTA...|AV MANOEL FRANCIS...|         57|             null|          CENTRO|36925000|            024|           null|                 null|                      null|        (31)38735235|        null|laboratoriostahel...|       null| 2135527000159|           4|           3|               null|                null|              null|                null|       null|        39|                   3|              31|             311290|                          20/06/2023|SMSCAPUTIRA|      8001522636|         23679|               null|           null|  null|            -20.172|           -42.271|                      17/07/2019|   SMSCAPUTIRA|           2062|                     N|                       null|                  S|           null|             null|        M|                                 12/09/2003|                     18|                     2|                   null|      6.225805519722E12|\n",
            "|2917702533324|2533324|     13988316000185|      3|        3|MUNICIPIO DE JAGU...|POSTO DE SAUDE DE...|  POVOADO DE ABOBORA|        S/N|           TERREO|      ZONA RURAL|48960000|             28|           null|                 null|                      null|        (07)45414196|        null|semusjaguar@bol.c...|       null|          null|           4|           1|               null|                null|              null|                null|       null|         2|                   3|              29|             291770|                          29/03/2015|  JAGUARARI|     93390300520|          3056|               null|              4|  null|               null|              null|                            null|          null|           1244|                  null|                       null|               null|           null|             null|        M|                                 25/07/2003|                   null|                  null|                   null|      5.835405066648E12|\n",
            "|2923604029542|4029542|     13675491000112|      3|        3|MUNICIPIO DE PARA...|UNIDADE DO PSF DE...|DISTRITO DE CANAB...|        S/N|             null|      ZONA RURAL|46190000|            023|           null|                 null|                      null|        (77)34712412|(77)34713437|smsaudeparamirim@...|       null|          null|           4|           3|               null|                null|              null|                null|       null|         2|                   3|              29|             292360|                          29/12/2021| SECRETARIA|      6891037514|        653182|               null|           null|  null|          -13.52504|         -42.17255|                      23/08/2018|    SECRETARIA|           1244|                     N|                       null|                  N|           null|             null|        M|                                 20/02/2004|                      1|                    12|                   null|      5.847208059084E12|\n",
            "|4218506433839|6433839|               null|      1|        1|CONSULTORIO ODONT...|CONSULTORIO ODONT...|  RUA JOSE BONIFACIO|         10|  1 ANDAR SALA 11|          CENTRO|89650000|             7�|           null|                 null|                      null|        (49)35370376|        null|jmmaranha@brturbo...|44770294972|          null|           4|           1|           333/2014|23-jun-2014 00:00:00|              null|                null|       null|        22|                   4|              42|             421850|                          13/05/2019|      MARLI|     44770294972|          null|               null|           null|  null|-26.998352707667422|-51.40650987625122|                      28/12/2018|         MARLI|           4000|                     N|                       null|                  S|           null|             null|        M|                                 16/02/2010|                     14|                    26|                   null|      8.437012867678E12|\n",
            "|4204502300125|2300125|               null|      3|        1|SINDICATO DOS TRA...|       STR DE CORUPA|  AVN GETULIO VARGAS|        611|             null|          CENTRO|89278000|             17|         000000|                 null|                       000|         (47)3751235|        null|                null|       null|84533322000196|           4|           1|             204/01|28-mai-2001 00:00:00|               2.0|                null|       null|        22|                   1|              42|             420450|                          03/04/2019|      JOYCE|     71632158949|          null|               null|              4|  null|               null|              null|                            null|          null|           3131|                  null|                       null|                  S|           null|             null|        M|                                 30/10/2001|                   null|                  null|                   null|       8.40900460025E12|\n",
            "|5300103107981|3107981|               null|      1|        1|       ROMEU ARAKAKI|       ROMEU ARAKAKI|SEPS EQ 705 905 C...|        325|             null|         ASA SUL|70390055|           null|           null|                 null|                      null|                null|        null|  acont@solar.com.br| 7169418800|          null|           4|           1|              42705|04-ago-1992 00:00:00|              null|                null|       null|        22|                   3|              53|             530010|                          11/04/2011|    ACONTEC|            null|          null|               null|              6|  null|               null|              null|                            null|          null|           4000|                  null|                       null|               null|           null|             null|        E|                                 03/07/2004|                   null|                  null|                   null|     1.0600206215962E13|\n",
            "|4204502662922|2662922|     83102467000170|      3|        3|PREFEITURA MUNICI...|NUCLEO DE APOIO A...|     RUA VIDAL RAMOS|         82|             null|          CENTRO|89278000|             17|         000000|                 null|                      0000|          4733750770|        null|tassiaah@hotmail.com|       null|          null|           4|           2|               null|                null|               1.0|                null|       null|        71|                   3|              42|             420450|                          16/12/2022|   JOSIMARA|      6053852970|          null|               null|           null|  null|-26.434302373320378|-49.24355506896973|                      29/05/2018|        420450|           1244|                     N|                       null|                  S|           null|             null|        M|                                 17/03/2003|                      1|                    12|                      S|      8.409005325844E12|\n",
            "|4304605396786|5396786|               null|      1|        1|CHARLES AUGUSTO R...|CHARLES AUGUSTO R...|RUA QUINZE DE JAN...|        231|              305|          CENTRO|92010300|            001|           null|                 null|                      null|                null|        null|                null|57388423087|          null|           4|           1|             666/05|06-set-2005 00:00:00|               2.0|                null|       null|        22|                   3|              43|             430460|                          19/07/2022|    MARGANE|     57388423087|          9898|               null|           null|  null|            -29.918|           -51.184|                      20/08/2019|        GESTOR|           4000|                     N|                       null|                  N|           null|             null|        M|                                 06/10/2009|                     16|                     1|                   null|      8.609210793572E12|\n",
            "|2408102680041|2680041|               null|      3|        1|LABORATORIO DE AN...|LABORATORIO DE AN...|          RUA TUIUTI|        264|             null|      PETROPOLIS|59014160|              7|           null|                   03|                      null|         (84)2121838|        null|                null|       null|35295690000138|           4|           3|          0123/2023|26-jan-2023 00:00:00|               2.0|26-jan-2024 00:00:00|          1|        39|                   3|              24|             240810|                          27/04/2023|   OTACILIO|     10655026487|           911|               null|           null|  null|         -5.7870983|       -35.1933487|                      20/04/2020|        CARLOS|           2062|                     N|                       null|                  S|           null|             null|        M|                                 05/08/2003|                     18|                     2|                      S|      4.816205360082E12|\n",
            "|1100122495724|2495724|      4092672000125|      3|        3|PREFEITURA MUNICI...|PS SANTO ANTONIO ...|    LINHA SANTA RITA|        S/N|PROJETO RIACHUELO|      ZONA RURAL|76900020|           null|           null|                 null|                      null|        (69)99882207|        null|                null|       null|          null|           4|           1|               null|                null|              null|                null|       null|         1|                   3|              11|             110012|                          23/09/2009|  SEMUSJIPA|            null|          null|               null|              8|  null|               null|              null|                            null|          null|           1000|                  null|                       null|               null|           null|             null|        M|                                 30/01/2002|                   null|                  null|                   null|      2.200244991448E12|\n",
            "|3201302445107|2445107|     27150549000119|      3|        3|PREFEITURA MUNICI...|        US ALTO LAGE|    EDMILSON VAREJAO|        104|             null|       ALTO LAGE|29151050|           0001|           null|                 null|                      null| 33466557 - 33461293| 27 32361108|                null|       null|          null|           4|           1|               null|                null|              null|                null|       null|         2|                   3|              32|             320130|                          25/05/2022|     ANDREA|     78072492349|          null|               null|           null|  null|        -20.3279954|       -40.3653414|                      18/01/2021|        ANDREA|           1244|                     N|                       null|                  S|           null|             null|        M|                                 17/12/2003|                      1|                    12|                   null|      6.402604890214E12|\n",
            "|3201302445131|2445131|     27150549000119|      3|        3|PREFEITURA MUNICI...|       US BELA VISTA|     AVENIDA AYMORES|        447|     QD 24 LT 281|      BELA VISTA|29142353|           0001|           null|                 null|                      null|27 33881372/33265775|        null|                null|       null|          null|           4|           3|               null|                null|              null|                null|       null|         2|                   3|              32|             320130|                          16/09/2022|     ANDREA|     10060481706|          null|               null|           null|  null|            -20.264|            -40.42|                      10/02/2021|        ANDREA|           1244|                     N|                       null|                  S|           null|             null|        M|                                 17/12/2003|                      1|                    12|                   null|      6.402604890262E12|\n",
            "|3201302445166|2445166|     27150549000119|      3|        3|PREFEITURA MUNICI...|US JOAQUIM LOVATI...|       RUA PADRE PIO|        S/N|             null|        SANTA FE|29143740|           0001|           null|                 null|                      null|27 33466575/33466564|        null|                null|       null|          null|           4|           1|               null|                null|              null|                null|       null|         2|                   3|              32|             320130|                          26/05/2023|     ANDREA|       545443784|          null|               null|           null|  null|        -20.3466128|       -40.3859719|                      05/05/2021|        ANDREA|           1244|                     N|                       null|                  S|           null|             null|        M|                                 17/12/2003|                      1|                    12|                   null|      6.402604890332E12|\n",
            "|3155302108887|2108887|     18363978000183|      3|        3|PREFEITURA MUNICI...|RIO MANSO POSTO D...|          RUA BONFIM|        422|             null|           SOUZA|35485000|            002|           null|                 null|                      null|        (31)35731123|(31)35733202|saude@riomanso.mg...|       null|          null|           4|           3|               null|                null|              null|                null|       null|         2|                   3|              31|             315530|                          06/07/2023|     AMANDA|      5186948608|        240935|               null|           null|  null|            -20.265|           -44.308|                      03/05/2019|        AMANDA|           1244|                     N|                       null|                  S|           null|             null|        D|                                 25/07/2003|                      1|                    12|                   null|      6.310604217774E12|\n",
            "+-------------+-------+-------------------+-------+---------+--------------------+--------------------+--------------------+-----------+-----------------+----------------+--------+---------------+---------------+---------------------+--------------------------+--------------------+------------+--------------------+-----------+--------------+------------+------------+-------------------+--------------------+------------------+--------------------+-----------+----------+--------------------+----------------+-------------------+------------------------------------+-----------+----------------+--------------+-------------------+---------------+------+-------------------+------------------+--------------------------------+--------------+---------------+----------------------+---------------------------+-------------------+---------------+-----------------+---------+-------------------------------------------+-----------------------+----------------------+-----------------------+-----------------------+\n",
            "only showing top 20 rows\n",
            "\n"
          ]
        }
      ]
    },
    {
      "cell_type": "code",
      "source": [
        "## Drop the column\n",
        "\n",
        "dataset.drop('Experience After 2 Year').show()"
      ],
      "metadata": {
        "colab": {
          "base_uri": "https://localhost:8080/"
        },
        "id": "mCFw8eGqSPp1",
        "outputId": "a8e05b29-2fd4-4e2c-c125-f9264bda335d"
      },
      "execution_count": 30,
      "outputs": [
        {
          "output_type": "stream",
          "name": "stdout",
          "text": [
            "+-------------+-------+-------------------+-------+---------+--------------------+--------------------+--------------------+-----------+-----------------+----------------+--------+---------------+---------------+---------------------+--------------------------+--------------------+------------+--------------------+-----------+--------------+------------+------------+-------------------+--------------------+------------------+--------------------+-----------+----------+--------------------+----------------+-------------------+------------------------------------+-----------+----------------+--------------+-------------------+---------------+------+-------------------+------------------+--------------------------------+--------------+---------------+----------------------+---------------------------+-------------------+---------------+-----------------+---------+-------------------------------------------+-----------------------+----------------------+-----------------------+\n",
            "|   CO_UNIDADE|CO_CNES|NU_CNPJ_MANTENEDORA|TP_PFPJ|NIVEL_DEP|     NO_RAZAO_SOCIAL|         NO_FANTASIA|       NO_LOGRADOURO|NU_ENDERECO|   NO_COMPLEMENTO|       NO_BAIRRO|  CO_CEP|CO_REGIAO_SAUDE|CO_MICRO_REGIAO|CO_DISTRITO_SANITARIO|CO_DISTRITO_ADMINISTRATIVO|         NU_TELEFONE|      NU_FAX|            NO_EMAIL|     NU_CPF|       NU_CNPJ|CO_ATIVIDADE|CO_CLIENTELA|          NU_ALVARA|        DT_EXPEDICAO|TP_ORGAO_EXPEDIDOR|     DT_VAL_LIC_SANI|TP_LIC_SANI|TP_UNIDADE|CO_TURNO_ATENDIMENTO|CO_ESTADO_GESTOR|CO_MUNICIPIO_GESTOR|TO_CHAR(DT_ATUALIZACAO,'DD/MM/YYYY')| CO_USUARIO|CO_CPFDIRETORCLN|REG_DIRETORCLN|ST_ADESAO_FILANTROP|CO_MOTIVO_DESAB|NO_URL|        NU_LATITUDE|      NU_LONGITUDE|TO_CHAR(DT_ATU_GEO,'DD/MM/YYYY')|NO_USUARIO_GEO|CO_NATUREZA_JUR|TP_ESTAB_SEMPRE_ABERTO|ST_GERACREDITO_GERENTE_SGIF|ST_CONEXAO_INTERNET|CO_TIPO_UNIDADE|NO_FANTASIA_ABREV|TP_GESTAO|TO_CHAR(DT_ATUALIZACAO_ORIGEM,'DD/MM/YYYY')|CO_TIPO_ESTABELECIMENTO|CO_ATIVIDADE_PRINCIPAL|ST_CONTRATO_FORMALIZADO|\n",
            "+-------------+-------+-------------------+-------+---------+--------------------+--------------------+--------------------+-----------+-----------------+----------------+--------+---------------+---------------+---------------------+--------------------------+--------------------+------------+--------------------+-----------+--------------+------------+------------+-------------------+--------------------+------------------+--------------------+-----------+----------+--------------------+----------------+-------------------+------------------------------------+-----------+----------------+--------------+-------------------+---------------+------+-------------------+------------------+--------------------------------+--------------+---------------+----------------------+---------------------------+-------------------+---------------+-----------------+---------+-------------------------------------------+-----------------------+----------------------+-----------------------+\n",
            "|2609602569302|2569302|     10404184000109|      3|        3|PREFEITURA MUNICI...|USF BULTRINS MONT...|RUA PREFEITO MANO...|        540|             null|        BULTRINS|53320460|            001|           null|                   02|                      null|        (81)34930626|        null|                null|       null|          null|           4|           2|               null|                null|              null|                null|       null|         2|                   3|              26|             260960|                          28/11/2017|  ANA KARLA|     10258000449|        157002|               null|              4|  null|               null|              null|                            null|          null|           1244|                     N|                       null|                  S|           null|             null|        M|                                 18/06/2003|                   null|                  null|                   null|\n",
            "|2609602571943|2571943|     10404184000109|      3|        3|PREFEITURA MUNICI...|       UNIDADE MOVEL|          RUA DO SOL|        311|             null|           CARMO|53120010|            001|           null|                   02|                      null|        (81)34294465|        null|                null|       null|          null|           4|           1|               null|                null|              null|                null|       null|        40|                   1|              26|             260960|                          06/07/2023|  ANA KARLA|     68887302472|          6191|               null|           null|  null|         -8.0105168|       -34.8427588|                      06/07/2023|           ANA|           1244|                     N|                       null|                  N|           null|             null|        M|                                 18/06/2003|                     16|                     1|                   null|\n",
            "|2609602344637|2344637|     10404184000109|      3|        3|PREFEITURA MUNICI...|    USF ALTO DA MINA|          RUA AVENCA|         49|             null|    ALTO DA MINA|53250441|            001|           null|                   02|                      null|        (81)33051133|        null|                null|       null|          null|           4|           1|               null|                null|              null|                null|       null|         2|                   3|              26|             260960|                          01/06/2023|  ANA KARLA|      3760998445|        322481|               null|           null|  null|         -7.9944275|       -34.8534609|                      03/08/2022|           ANA|           1244|                     N|                       null|                  S|           null|             null|        M|                                 30/10/2001|                      1|                    12|                   null|\n",
            "|2609602344696|2344696|     10404184000109|      3|        3|PREFEITURA MUNICI...|USF ILHA DE SANTA...|   RUA DA INTEGRACAO|        S/N|             null|JARDIM ATLANTICO|53060001|            001|           null|                   02|                      null|        (81)34324703|        null|                null|       null|          null|           4|           1|               null|                null|              null|                null|       null|         2|                   3|              26|             260960|                          06/07/2023|  ANA KARLA|     68829736449|         91829|               null|           null|  null|         -8.0412002|        -34.879982|                      06/07/2023|           ANA|           1244|                     N|                       null|                  S|           null|             null|        M|                                 30/10/2001|                      1|                    12|                   null|\n",
            "|3112002142295|2142295|               null|      3|        1|FUNDACAO COMUNITA...|HOSPITAL CARLOS C...|AVENIDA PEDRO VIE...|        687|             null|          CENTRO|37280000|             15|           null|                 null|                      0000|      035-3833.-1285|        null|hospitalcarloscha...|       null|19343383000129|           4|           3|SRS/VS/DIV/139/2017|28-set-2017 00:00:00|               1.0|                null|       null|         5|                   6|              31|             311200|                          29/05/2023|     ISABEL|      8722114602|         63649|                  2|           null|  null|            -20.767|           -45.276|                      30/04/2019|       ADRIANA|           3069|                     S|                       null|                  S|           null|             null|        M|                                 21/03/2002|                      6|                     9|                      S|\n",
            "|3112602121506|2121506|               null|      3|        1|LABORATORIO CENTR...| LABORATORIO CENTRAL|               AV 99|        613|             null|          CENTRO|38360000|            026|           null|                 null|                      null|        (34)32631058|(34)32631058|                null|       null|18587469000134|           4|           3|          055/02/26|28-mai-2002 00:00:00|               1.0|                null|       null|        39|                   3|              31|             311260|                          04/07/2008|       DADS|            null|          null|               null|              2|  null|               null|              null|                            null|          null|           2000|                  null|                       null|               null|           null|             null|        D|                                 12/03/2002|                   null|                  null|                   null|\n",
            "|3112902759861|2759861|               null|      3|        1|LABORATORIO SANTA...|LABORATORIO SANTA...|AV MANOEL FRANCIS...|         57|             null|          CENTRO|36925000|            024|           null|                 null|                      null|        (31)38735235|        null|laboratoriostahel...|       null| 2135527000159|           4|           3|               null|                null|              null|                null|       null|        39|                   3|              31|             311290|                          20/06/2023|SMSCAPUTIRA|      8001522636|         23679|               null|           null|  null|            -20.172|           -42.271|                      17/07/2019|   SMSCAPUTIRA|           2062|                     N|                       null|                  S|           null|             null|        M|                                 12/09/2003|                     18|                     2|                   null|\n",
            "|2917702533324|2533324|     13988316000185|      3|        3|MUNICIPIO DE JAGU...|POSTO DE SAUDE DE...|  POVOADO DE ABOBORA|        S/N|           TERREO|      ZONA RURAL|48960000|             28|           null|                 null|                      null|        (07)45414196|        null|semusjaguar@bol.c...|       null|          null|           4|           1|               null|                null|              null|                null|       null|         2|                   3|              29|             291770|                          29/03/2015|  JAGUARARI|     93390300520|          3056|               null|              4|  null|               null|              null|                            null|          null|           1244|                  null|                       null|               null|           null|             null|        M|                                 25/07/2003|                   null|                  null|                   null|\n",
            "|2923604029542|4029542|     13675491000112|      3|        3|MUNICIPIO DE PARA...|UNIDADE DO PSF DE...|DISTRITO DE CANAB...|        S/N|             null|      ZONA RURAL|46190000|            023|           null|                 null|                      null|        (77)34712412|(77)34713437|smsaudeparamirim@...|       null|          null|           4|           3|               null|                null|              null|                null|       null|         2|                   3|              29|             292360|                          29/12/2021| SECRETARIA|      6891037514|        653182|               null|           null|  null|          -13.52504|         -42.17255|                      23/08/2018|    SECRETARIA|           1244|                     N|                       null|                  N|           null|             null|        M|                                 20/02/2004|                      1|                    12|                   null|\n",
            "|4218506433839|6433839|               null|      1|        1|CONSULTORIO ODONT...|CONSULTORIO ODONT...|  RUA JOSE BONIFACIO|         10|  1 ANDAR SALA 11|          CENTRO|89650000|             7�|           null|                 null|                      null|        (49)35370376|        null|jmmaranha@brturbo...|44770294972|          null|           4|           1|           333/2014|23-jun-2014 00:00:00|              null|                null|       null|        22|                   4|              42|             421850|                          13/05/2019|      MARLI|     44770294972|          null|               null|           null|  null|-26.998352707667422|-51.40650987625122|                      28/12/2018|         MARLI|           4000|                     N|                       null|                  S|           null|             null|        M|                                 16/02/2010|                     14|                    26|                   null|\n",
            "|4204502300125|2300125|               null|      3|        1|SINDICATO DOS TRA...|       STR DE CORUPA|  AVN GETULIO VARGAS|        611|             null|          CENTRO|89278000|             17|         000000|                 null|                       000|         (47)3751235|        null|                null|       null|84533322000196|           4|           1|             204/01|28-mai-2001 00:00:00|               2.0|                null|       null|        22|                   1|              42|             420450|                          03/04/2019|      JOYCE|     71632158949|          null|               null|              4|  null|               null|              null|                            null|          null|           3131|                  null|                       null|                  S|           null|             null|        M|                                 30/10/2001|                   null|                  null|                   null|\n",
            "|5300103107981|3107981|               null|      1|        1|       ROMEU ARAKAKI|       ROMEU ARAKAKI|SEPS EQ 705 905 C...|        325|             null|         ASA SUL|70390055|           null|           null|                 null|                      null|                null|        null|  acont@solar.com.br| 7169418800|          null|           4|           1|              42705|04-ago-1992 00:00:00|              null|                null|       null|        22|                   3|              53|             530010|                          11/04/2011|    ACONTEC|            null|          null|               null|              6|  null|               null|              null|                            null|          null|           4000|                  null|                       null|               null|           null|             null|        E|                                 03/07/2004|                   null|                  null|                   null|\n",
            "|4204502662922|2662922|     83102467000170|      3|        3|PREFEITURA MUNICI...|NUCLEO DE APOIO A...|     RUA VIDAL RAMOS|         82|             null|          CENTRO|89278000|             17|         000000|                 null|                      0000|          4733750770|        null|tassiaah@hotmail.com|       null|          null|           4|           2|               null|                null|               1.0|                null|       null|        71|                   3|              42|             420450|                          16/12/2022|   JOSIMARA|      6053852970|          null|               null|           null|  null|-26.434302373320378|-49.24355506896973|                      29/05/2018|        420450|           1244|                     N|                       null|                  S|           null|             null|        M|                                 17/03/2003|                      1|                    12|                      S|\n",
            "|4304605396786|5396786|               null|      1|        1|CHARLES AUGUSTO R...|CHARLES AUGUSTO R...|RUA QUINZE DE JAN...|        231|              305|          CENTRO|92010300|            001|           null|                 null|                      null|                null|        null|                null|57388423087|          null|           4|           1|             666/05|06-set-2005 00:00:00|               2.0|                null|       null|        22|                   3|              43|             430460|                          19/07/2022|    MARGANE|     57388423087|          9898|               null|           null|  null|            -29.918|           -51.184|                      20/08/2019|        GESTOR|           4000|                     N|                       null|                  N|           null|             null|        M|                                 06/10/2009|                     16|                     1|                   null|\n",
            "|2408102680041|2680041|               null|      3|        1|LABORATORIO DE AN...|LABORATORIO DE AN...|          RUA TUIUTI|        264|             null|      PETROPOLIS|59014160|              7|           null|                   03|                      null|         (84)2121838|        null|                null|       null|35295690000138|           4|           3|          0123/2023|26-jan-2023 00:00:00|               2.0|26-jan-2024 00:00:00|          1|        39|                   3|              24|             240810|                          27/04/2023|   OTACILIO|     10655026487|           911|               null|           null|  null|         -5.7870983|       -35.1933487|                      20/04/2020|        CARLOS|           2062|                     N|                       null|                  S|           null|             null|        M|                                 05/08/2003|                     18|                     2|                      S|\n",
            "|1100122495724|2495724|      4092672000125|      3|        3|PREFEITURA MUNICI...|PS SANTO ANTONIO ...|    LINHA SANTA RITA|        S/N|PROJETO RIACHUELO|      ZONA RURAL|76900020|           null|           null|                 null|                      null|        (69)99882207|        null|                null|       null|          null|           4|           1|               null|                null|              null|                null|       null|         1|                   3|              11|             110012|                          23/09/2009|  SEMUSJIPA|            null|          null|               null|              8|  null|               null|              null|                            null|          null|           1000|                  null|                       null|               null|           null|             null|        M|                                 30/01/2002|                   null|                  null|                   null|\n",
            "|3201302445107|2445107|     27150549000119|      3|        3|PREFEITURA MUNICI...|        US ALTO LAGE|    EDMILSON VAREJAO|        104|             null|       ALTO LAGE|29151050|           0001|           null|                 null|                      null| 33466557 - 33461293| 27 32361108|                null|       null|          null|           4|           1|               null|                null|              null|                null|       null|         2|                   3|              32|             320130|                          25/05/2022|     ANDREA|     78072492349|          null|               null|           null|  null|        -20.3279954|       -40.3653414|                      18/01/2021|        ANDREA|           1244|                     N|                       null|                  S|           null|             null|        M|                                 17/12/2003|                      1|                    12|                   null|\n",
            "|3201302445131|2445131|     27150549000119|      3|        3|PREFEITURA MUNICI...|       US BELA VISTA|     AVENIDA AYMORES|        447|     QD 24 LT 281|      BELA VISTA|29142353|           0001|           null|                 null|                      null|27 33881372/33265775|        null|                null|       null|          null|           4|           3|               null|                null|              null|                null|       null|         2|                   3|              32|             320130|                          16/09/2022|     ANDREA|     10060481706|          null|               null|           null|  null|            -20.264|            -40.42|                      10/02/2021|        ANDREA|           1244|                     N|                       null|                  S|           null|             null|        M|                                 17/12/2003|                      1|                    12|                   null|\n",
            "|3201302445166|2445166|     27150549000119|      3|        3|PREFEITURA MUNICI...|US JOAQUIM LOVATI...|       RUA PADRE PIO|        S/N|             null|        SANTA FE|29143740|           0001|           null|                 null|                      null|27 33466575/33466564|        null|                null|       null|          null|           4|           1|               null|                null|              null|                null|       null|         2|                   3|              32|             320130|                          26/05/2023|     ANDREA|       545443784|          null|               null|           null|  null|        -20.3466128|       -40.3859719|                      05/05/2021|        ANDREA|           1244|                     N|                       null|                  S|           null|             null|        M|                                 17/12/2003|                      1|                    12|                   null|\n",
            "|3155302108887|2108887|     18363978000183|      3|        3|PREFEITURA MUNICI...|RIO MANSO POSTO D...|          RUA BONFIM|        422|             null|           SOUZA|35485000|            002|           null|                 null|                      null|        (31)35731123|(31)35733202|saude@riomanso.mg...|       null|          null|           4|           3|               null|                null|              null|                null|       null|         2|                   3|              31|             315530|                          06/07/2023|     AMANDA|      5186948608|        240935|               null|           null|  null|            -20.265|           -44.308|                      03/05/2019|        AMANDA|           1244|                     N|                       null|                  S|           null|             null|        D|                                 25/07/2003|                      1|                    12|                   null|\n",
            "+-------------+-------+-------------------+-------+---------+--------------------+--------------------+--------------------+-----------+-----------------+----------------+--------+---------------+---------------+---------------------+--------------------------+--------------------+------------+--------------------+-----------+--------------+------------+------------+-------------------+--------------------+------------------+--------------------+-----------+----------+--------------------+----------------+-------------------+------------------------------------+-----------+----------------+--------------+-------------------+---------------+------+-------------------+------------------+--------------------------------+--------------+---------------+----------------------+---------------------------+-------------------+---------------+-----------------+---------+-------------------------------------------+-----------------------+----------------------+-----------------------+\n",
            "only showing top 20 rows\n",
            "\n"
          ]
        }
      ]
    },
    {
      "cell_type": "code",
      "source": [
        "## Rename the column\n",
        "\n",
        "dataset.withColumnRenamed('CO_UNIDADE', 'CÓDIGO DA UNIDADE').show(5)"
      ],
      "metadata": {
        "colab": {
          "base_uri": "https://localhost:8080/"
        },
        "id": "VoV9ad28TUGQ",
        "outputId": "566bfa32-e87b-4914-d535-2f6b915b2848"
      },
      "execution_count": 32,
      "outputs": [
        {
          "output_type": "stream",
          "name": "stdout",
          "text": [
            "+-----------------+-------+-------------------+-------+---------+--------------------+--------------------+--------------------+-----------+--------------+----------------+--------+---------------+---------------+---------------------+--------------------------+--------------+------+--------------------+------+--------------+------------+------------+-------------------+--------------------+------------------+---------------+-----------+----------+--------------------+----------------+-------------------+------------------------------------+----------+----------------+--------------+-------------------+---------------+------+-----------+------------+--------------------------------+--------------+---------------+----------------------+---------------------------+-------------------+---------------+-----------------+---------+-------------------------------------------+-----------------------+----------------------+-----------------------+\n",
            "|CÓDIGO DA UNIDADE|CO_CNES|NU_CNPJ_MANTENEDORA|TP_PFPJ|NIVEL_DEP|     NO_RAZAO_SOCIAL|         NO_FANTASIA|       NO_LOGRADOURO|NU_ENDERECO|NO_COMPLEMENTO|       NO_BAIRRO|  CO_CEP|CO_REGIAO_SAUDE|CO_MICRO_REGIAO|CO_DISTRITO_SANITARIO|CO_DISTRITO_ADMINISTRATIVO|   NU_TELEFONE|NU_FAX|            NO_EMAIL|NU_CPF|       NU_CNPJ|CO_ATIVIDADE|CO_CLIENTELA|          NU_ALVARA|        DT_EXPEDICAO|TP_ORGAO_EXPEDIDOR|DT_VAL_LIC_SANI|TP_LIC_SANI|TP_UNIDADE|CO_TURNO_ATENDIMENTO|CO_ESTADO_GESTOR|CO_MUNICIPIO_GESTOR|TO_CHAR(DT_ATUALIZACAO,'DD/MM/YYYY')|CO_USUARIO|CO_CPFDIRETORCLN|REG_DIRETORCLN|ST_ADESAO_FILANTROP|CO_MOTIVO_DESAB|NO_URL|NU_LATITUDE|NU_LONGITUDE|TO_CHAR(DT_ATU_GEO,'DD/MM/YYYY')|NO_USUARIO_GEO|CO_NATUREZA_JUR|TP_ESTAB_SEMPRE_ABERTO|ST_GERACREDITO_GERENTE_SGIF|ST_CONEXAO_INTERNET|CO_TIPO_UNIDADE|NO_FANTASIA_ABREV|TP_GESTAO|TO_CHAR(DT_ATUALIZACAO_ORIGEM,'DD/MM/YYYY')|CO_TIPO_ESTABELECIMENTO|CO_ATIVIDADE_PRINCIPAL|ST_CONTRATO_FORMALIZADO|\n",
            "+-----------------+-------+-------------------+-------+---------+--------------------+--------------------+--------------------+-----------+--------------+----------------+--------+---------------+---------------+---------------------+--------------------------+--------------+------+--------------------+------+--------------+------------+------------+-------------------+--------------------+------------------+---------------+-----------+----------+--------------------+----------------+-------------------+------------------------------------+----------+----------------+--------------+-------------------+---------------+------+-----------+------------+--------------------------------+--------------+---------------+----------------------+---------------------------+-------------------+---------------+-----------------+---------+-------------------------------------------+-----------------------+----------------------+-----------------------+\n",
            "|    2609602569302|2569302|     10404184000109|      3|        3|PREFEITURA MUNICI...|USF BULTRINS MONT...|RUA PREFEITO MANO...|        540|          null|        BULTRINS|53320460|            001|           null|                   02|                      null|  (81)34930626|  null|                null|  null|          null|           4|           2|               null|                null|              null|           null|       null|         2|                   3|              26|             260960|                          28/11/2017| ANA KARLA|     10258000449|        157002|               null|              4|  null|       null|        null|                            null|          null|           1244|                     N|                       null|                  S|           null|             null|        M|                                 18/06/2003|                   null|                  null|                   null|\n",
            "|    2609602571943|2571943|     10404184000109|      3|        3|PREFEITURA MUNICI...|       UNIDADE MOVEL|          RUA DO SOL|        311|          null|           CARMO|53120010|            001|           null|                   02|                      null|  (81)34294465|  null|                null|  null|          null|           4|           1|               null|                null|              null|           null|       null|        40|                   1|              26|             260960|                          06/07/2023| ANA KARLA|     68887302472|          6191|               null|           null|  null| -8.0105168| -34.8427588|                      06/07/2023|           ANA|           1244|                     N|                       null|                  N|           null|             null|        M|                                 18/06/2003|                     16|                     1|                   null|\n",
            "|    2609602344637|2344637|     10404184000109|      3|        3|PREFEITURA MUNICI...|    USF ALTO DA MINA|          RUA AVENCA|         49|          null|    ALTO DA MINA|53250441|            001|           null|                   02|                      null|  (81)33051133|  null|                null|  null|          null|           4|           1|               null|                null|              null|           null|       null|         2|                   3|              26|             260960|                          01/06/2023| ANA KARLA|      3760998445|        322481|               null|           null|  null| -7.9944275| -34.8534609|                      03/08/2022|           ANA|           1244|                     N|                       null|                  S|           null|             null|        M|                                 30/10/2001|                      1|                    12|                   null|\n",
            "|    2609602344696|2344696|     10404184000109|      3|        3|PREFEITURA MUNICI...|USF ILHA DE SANTA...|   RUA DA INTEGRACAO|        S/N|          null|JARDIM ATLANTICO|53060001|            001|           null|                   02|                      null|  (81)34324703|  null|                null|  null|          null|           4|           1|               null|                null|              null|           null|       null|         2|                   3|              26|             260960|                          06/07/2023| ANA KARLA|     68829736449|         91829|               null|           null|  null| -8.0412002|  -34.879982|                      06/07/2023|           ANA|           1244|                     N|                       null|                  S|           null|             null|        M|                                 30/10/2001|                      1|                    12|                   null|\n",
            "|    3112002142295|2142295|               null|      3|        1|FUNDACAO COMUNITA...|HOSPITAL CARLOS C...|AVENIDA PEDRO VIE...|        687|          null|          CENTRO|37280000|             15|           null|                 null|                      0000|035-3833.-1285|  null|hospitalcarloscha...|  null|19343383000129|           4|           3|SRS/VS/DIV/139/2017|28-set-2017 00:00:00|               1.0|           null|       null|         5|                   6|              31|             311200|                          29/05/2023|    ISABEL|      8722114602|         63649|                  2|           null|  null|    -20.767|     -45.276|                      30/04/2019|       ADRIANA|           3069|                     S|                       null|                  S|           null|             null|        M|                                 21/03/2002|                      6|                     9|                      S|\n",
            "+-----------------+-------+-------------------+-------+---------+--------------------+--------------------+--------------------+-----------+--------------+----------------+--------+---------------+---------------+---------------------+--------------------------+--------------+------+--------------------+------+--------------+------------+------------+-------------------+--------------------+------------------+---------------+-----------+----------+--------------------+----------------+-------------------+------------------------------------+----------+----------------+--------------+-------------------+---------------+------+-----------+------------+--------------------------------+--------------+---------------+----------------------+---------------------------+-------------------+---------------+-----------------+---------+-------------------------------------------+-----------------------+----------------------+-----------------------+\n",
            "only showing top 5 rows\n",
            "\n"
          ]
        }
      ]
    },
    {
      "cell_type": "markdown",
      "source": [
        "# Terceira Parte\n",
        "\n",
        "- Lidando com dados faltantes"
      ],
      "metadata": {
        "id": "USOOqN8IRmY-"
      }
    },
    {
      "cell_type": "code",
      "source": [],
      "metadata": {
        "id": "yu1vh9AVRlUt"
      },
      "execution_count": null,
      "outputs": []
    },
    {
      "cell_type": "code",
      "source": [],
      "metadata": {
        "id": "up1rB2CVUJCZ"
      },
      "execution_count": null,
      "outputs": []
    },
    {
      "cell_type": "code",
      "source": [],
      "metadata": {
        "id": "jTfKMuTwUH7w"
      },
      "execution_count": null,
      "outputs": []
    },
    {
      "cell_type": "code",
      "source": [],
      "metadata": {
        "id": "iK3npWouUIA8"
      },
      "execution_count": null,
      "outputs": []
    },
    {
      "cell_type": "code",
      "source": [],
      "metadata": {
        "id": "dgIu3HtnRlY3"
      },
      "execution_count": null,
      "outputs": []
    },
    {
      "cell_type": "code",
      "source": [],
      "metadata": {
        "id": "MqUkWMY3RldG"
      },
      "execution_count": null,
      "outputs": []
    },
    {
      "cell_type": "code",
      "source": [],
      "metadata": {
        "id": "S1qkuWPPRlgM"
      },
      "execution_count": null,
      "outputs": []
    },
    {
      "cell_type": "code",
      "source": [],
      "metadata": {
        "id": "mwOVGgXuMtaC"
      },
      "execution_count": null,
      "outputs": []
    }
  ]
}